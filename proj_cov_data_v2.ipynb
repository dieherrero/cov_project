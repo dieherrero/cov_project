{
 "cells": [
  {
   "cell_type": "code",
   "execution_count": 1,
   "metadata": {},
   "outputs": [
    {
     "name": "stdout",
     "output_type": "stream",
     "text": [
      "Today is: 2020-08-01\n"
     ]
    }
   ],
   "source": [
    "#loading modules\n",
    "import csv\n",
    "import pandas as pd\n",
    "import numpy as np\n",
    "import datetime as dtime\n",
    "import plotly\n",
    "import plotly.graph_objs as go\n",
    "#from plotly.plotly import iplot, plot  # versions being updated, need load various modules\n",
    "from chart_studio.plotly import plot, iplot\n",
    "\n",
    "#  url=\"https://covid.ourworldindata.org/data/owid-covid-data.csv\" Data from 'Our World in Data' webpage\n",
    "\n",
    "# create data frame from the csv file\n",
    "covid_df = pd.read_csv(r'https://covid.ourworldindata.org/data/owid-covid-data.csv', delimiter=\",\", encoding=\"utf-8\", header=0)\n",
    "\n",
    "# covid_df.head()\n",
    "\n",
    "#todays date\n",
    "today_date = np.datetime64(dtime.date.today())\n",
    "print(\"Today is:\", today_date)\n",
    "# print(type(today_date))"
   ]
  },
  {
   "cell_type": "code",
   "execution_count": 2,
   "metadata": {},
   "outputs": [
    {
     "name": "stdout",
     "output_type": "stream",
     "text": [
      "2020-08-02\n"
     ]
    }
   ],
   "source": [
    "tomorrow_ = dtime.date.today() + dtime.timedelta(days=1)\n",
    "print(tomorrow_)"
   ]
  },
  {
   "cell_type": "markdown",
   "metadata": {},
   "source": [
    "#  DATA by countries in selected continents selected day"
   ]
  },
  {
   "cell_type": "code",
   "execution_count": 25,
   "metadata": {},
   "outputs": [],
   "source": [
    "#Data frame\n",
    "# columns_selection =[\"continent\", \"location\", \"date\", \"total_cases\", \"new_cases\", \"total_cases_per_million\", \"new_cases_per_million\"]\n",
    "columns_selection = [\"continent\", \"location\", \"date\", \"new_cases\", \"total_cases\", \"new_cases_per_million\"]\n",
    "cov_df_conts = covid_df[columns_selection]\n",
    "\n",
    "cov_df_contss = cov_df_conts.copy()\n",
    "\n",
    "#lets try passing date in the data frame to datetime type\n",
    "cov_df_contss['date'] = pd.to_datetime(cov_df_conts['date'])\n",
    "\n",
    "cov_df_contss.set_index(\"date\", inplace=True)\n",
    "\n",
    "# choosing day\n",
    "#day_chosen = today_date\n",
    "day_chosen = \"2020-07-31\"\n",
    "day_chosen = np.datetime64(day_chosen)\n",
    "\n",
    "cov_df_contss = cov_df_contss.loc[[day_chosen]] \n",
    "# continent = input(\"Choose continent(caps letter needed), options: Asia, Europe, North America, South America, Africa, Oceania\")\n",
    "continent_sel1 = \"Europe\"\n",
    "cov_df_con1 = cov_df_contss[cov_df_contss.continent == continent_sel1]\n",
    "\n",
    "continent_sel2 = \"North America\"\n",
    "cov_df_con2 = cov_df_contss[cov_df_contss.continent == continent_sel2]\n",
    "\n",
    "# cov_df_contss.index\n",
    "# cov_df_contss.head(20)\n"
   ]
  },
  {
   "cell_type": "code",
   "execution_count": 26,
   "metadata": {
    "scrolled": true
   },
   "outputs": [
    {
     "data": {
      "application/vnd.plotly.v1+json": {
       "config": {
        "plotlyServerURL": "https://plot.ly"
       },
       "data": [
        {
         "name": "Europe",
         "type": "bar",
         "x": [
          "Albania",
          "Andorra",
          "Austria",
          "Belarus",
          "Belgium",
          "Bosnia and Herzegovina",
          "Bulgaria",
          "Croatia",
          "Cyprus",
          "Czech Republic",
          "Denmark",
          "Estonia",
          "Faeroe Islands",
          "Finland",
          "France",
          "Germany",
          "Gibraltar",
          "Greece",
          "Guernsey",
          "Hungary",
          "Iceland",
          "Ireland",
          "Isle of Man",
          "Italy",
          "Jersey",
          "Kosovo",
          "Latvia",
          "Liechtenstein",
          "Lithuania",
          "Luxembourg",
          "Macedonia",
          "Malta",
          "Moldova",
          "Monaco",
          "Montenegro",
          "Netherlands",
          "Norway",
          "Poland",
          "Portugal",
          "Romania",
          "Russia",
          "San Marino",
          "Serbia",
          "Slovakia",
          "Slovenia",
          "Spain",
          "Sweden",
          "Switzerland",
          "Ukraine",
          "United Kingdom",
          "Vatican"
         ],
         "y": [
          92,
          4,
          163,
          147,
          108,
          678,
          265,
          78,
          4,
          249,
          91,
          9,
          0,
          9,
          1377,
          870,
          1,
          65,
          0,
          21,
          11,
          85,
          0,
          382,
          0,
          258,
          4,
          1,
          19,
          83,
          119,
          28,
          0,
          0,
          57,
          342,
          22,
          615,
          255,
          1356,
          5509,
          0,
          321,
          20,
          24,
          3092,
          318,
          219,
          1197,
          846,
          0
         ]
        },
        {
         "name": "North America",
         "type": "bar",
         "x": [
          "Anguilla",
          "Antigua and Barbuda",
          "Aruba",
          "Bahamas",
          "Barbados",
          "Belize",
          "Bermuda",
          "Bonaire Sint Eustatius and Saba",
          "British Virgin Islands",
          "Canada",
          "Cayman Islands",
          "Costa Rica",
          "Cuba",
          "Curacao",
          "Dominica",
          "Dominican Republic",
          "El Salvador",
          "Greenland",
          "Grenada",
          "Guatemala",
          "Haiti",
          "Honduras",
          "Jamaica",
          "Mexico",
          "Montserrat",
          "Nicaragua",
          "Panama",
          "Puerto Rico",
          "Saint Kitts and Nevis",
          "Saint Lucia",
          "Saint Vincent and the Grenadines",
          "Sint Maarten (Dutch part)",
          "Trinidad and Tobago",
          "Turks and Caicos Islands",
          "United States",
          "United States Virgin Islands"
         ],
         "y": [
          0,
          0,
          1,
          24,
          0,
          0,
          0,
          0,
          0,
          329,
          0,
          490,
          9,
          0,
          0,
          1733,
          389,
          0,
          0,
          1221,
          34,
          482,
          8,
          7730,
          0,
          0,
          922,
          511,
          0,
          1,
          0,
          7,
          8,
          5,
          68032,
          0
         ]
        }
       ],
       "layout": {
        "template": {
         "data": {
          "bar": [
           {
            "error_x": {
             "color": "#2a3f5f"
            },
            "error_y": {
             "color": "#2a3f5f"
            },
            "marker": {
             "line": {
              "color": "#E5ECF6",
              "width": 0.5
             }
            },
            "type": "bar"
           }
          ],
          "barpolar": [
           {
            "marker": {
             "line": {
              "color": "#E5ECF6",
              "width": 0.5
             }
            },
            "type": "barpolar"
           }
          ],
          "carpet": [
           {
            "aaxis": {
             "endlinecolor": "#2a3f5f",
             "gridcolor": "white",
             "linecolor": "white",
             "minorgridcolor": "white",
             "startlinecolor": "#2a3f5f"
            },
            "baxis": {
             "endlinecolor": "#2a3f5f",
             "gridcolor": "white",
             "linecolor": "white",
             "minorgridcolor": "white",
             "startlinecolor": "#2a3f5f"
            },
            "type": "carpet"
           }
          ],
          "choropleth": [
           {
            "colorbar": {
             "outlinewidth": 0,
             "ticks": ""
            },
            "type": "choropleth"
           }
          ],
          "contour": [
           {
            "colorbar": {
             "outlinewidth": 0,
             "ticks": ""
            },
            "colorscale": [
             [
              0,
              "#0d0887"
             ],
             [
              0.1111111111111111,
              "#46039f"
             ],
             [
              0.2222222222222222,
              "#7201a8"
             ],
             [
              0.3333333333333333,
              "#9c179e"
             ],
             [
              0.4444444444444444,
              "#bd3786"
             ],
             [
              0.5555555555555556,
              "#d8576b"
             ],
             [
              0.6666666666666666,
              "#ed7953"
             ],
             [
              0.7777777777777778,
              "#fb9f3a"
             ],
             [
              0.8888888888888888,
              "#fdca26"
             ],
             [
              1,
              "#f0f921"
             ]
            ],
            "type": "contour"
           }
          ],
          "contourcarpet": [
           {
            "colorbar": {
             "outlinewidth": 0,
             "ticks": ""
            },
            "type": "contourcarpet"
           }
          ],
          "heatmap": [
           {
            "colorbar": {
             "outlinewidth": 0,
             "ticks": ""
            },
            "colorscale": [
             [
              0,
              "#0d0887"
             ],
             [
              0.1111111111111111,
              "#46039f"
             ],
             [
              0.2222222222222222,
              "#7201a8"
             ],
             [
              0.3333333333333333,
              "#9c179e"
             ],
             [
              0.4444444444444444,
              "#bd3786"
             ],
             [
              0.5555555555555556,
              "#d8576b"
             ],
             [
              0.6666666666666666,
              "#ed7953"
             ],
             [
              0.7777777777777778,
              "#fb9f3a"
             ],
             [
              0.8888888888888888,
              "#fdca26"
             ],
             [
              1,
              "#f0f921"
             ]
            ],
            "type": "heatmap"
           }
          ],
          "heatmapgl": [
           {
            "colorbar": {
             "outlinewidth": 0,
             "ticks": ""
            },
            "colorscale": [
             [
              0,
              "#0d0887"
             ],
             [
              0.1111111111111111,
              "#46039f"
             ],
             [
              0.2222222222222222,
              "#7201a8"
             ],
             [
              0.3333333333333333,
              "#9c179e"
             ],
             [
              0.4444444444444444,
              "#bd3786"
             ],
             [
              0.5555555555555556,
              "#d8576b"
             ],
             [
              0.6666666666666666,
              "#ed7953"
             ],
             [
              0.7777777777777778,
              "#fb9f3a"
             ],
             [
              0.8888888888888888,
              "#fdca26"
             ],
             [
              1,
              "#f0f921"
             ]
            ],
            "type": "heatmapgl"
           }
          ],
          "histogram": [
           {
            "marker": {
             "colorbar": {
              "outlinewidth": 0,
              "ticks": ""
             }
            },
            "type": "histogram"
           }
          ],
          "histogram2d": [
           {
            "colorbar": {
             "outlinewidth": 0,
             "ticks": ""
            },
            "colorscale": [
             [
              0,
              "#0d0887"
             ],
             [
              0.1111111111111111,
              "#46039f"
             ],
             [
              0.2222222222222222,
              "#7201a8"
             ],
             [
              0.3333333333333333,
              "#9c179e"
             ],
             [
              0.4444444444444444,
              "#bd3786"
             ],
             [
              0.5555555555555556,
              "#d8576b"
             ],
             [
              0.6666666666666666,
              "#ed7953"
             ],
             [
              0.7777777777777778,
              "#fb9f3a"
             ],
             [
              0.8888888888888888,
              "#fdca26"
             ],
             [
              1,
              "#f0f921"
             ]
            ],
            "type": "histogram2d"
           }
          ],
          "histogram2dcontour": [
           {
            "colorbar": {
             "outlinewidth": 0,
             "ticks": ""
            },
            "colorscale": [
             [
              0,
              "#0d0887"
             ],
             [
              0.1111111111111111,
              "#46039f"
             ],
             [
              0.2222222222222222,
              "#7201a8"
             ],
             [
              0.3333333333333333,
              "#9c179e"
             ],
             [
              0.4444444444444444,
              "#bd3786"
             ],
             [
              0.5555555555555556,
              "#d8576b"
             ],
             [
              0.6666666666666666,
              "#ed7953"
             ],
             [
              0.7777777777777778,
              "#fb9f3a"
             ],
             [
              0.8888888888888888,
              "#fdca26"
             ],
             [
              1,
              "#f0f921"
             ]
            ],
            "type": "histogram2dcontour"
           }
          ],
          "mesh3d": [
           {
            "colorbar": {
             "outlinewidth": 0,
             "ticks": ""
            },
            "type": "mesh3d"
           }
          ],
          "parcoords": [
           {
            "line": {
             "colorbar": {
              "outlinewidth": 0,
              "ticks": ""
             }
            },
            "type": "parcoords"
           }
          ],
          "pie": [
           {
            "automargin": true,
            "type": "pie"
           }
          ],
          "scatter": [
           {
            "marker": {
             "colorbar": {
              "outlinewidth": 0,
              "ticks": ""
             }
            },
            "type": "scatter"
           }
          ],
          "scatter3d": [
           {
            "line": {
             "colorbar": {
              "outlinewidth": 0,
              "ticks": ""
             }
            },
            "marker": {
             "colorbar": {
              "outlinewidth": 0,
              "ticks": ""
             }
            },
            "type": "scatter3d"
           }
          ],
          "scattercarpet": [
           {
            "marker": {
             "colorbar": {
              "outlinewidth": 0,
              "ticks": ""
             }
            },
            "type": "scattercarpet"
           }
          ],
          "scattergeo": [
           {
            "marker": {
             "colorbar": {
              "outlinewidth": 0,
              "ticks": ""
             }
            },
            "type": "scattergeo"
           }
          ],
          "scattergl": [
           {
            "marker": {
             "colorbar": {
              "outlinewidth": 0,
              "ticks": ""
             }
            },
            "type": "scattergl"
           }
          ],
          "scattermapbox": [
           {
            "marker": {
             "colorbar": {
              "outlinewidth": 0,
              "ticks": ""
             }
            },
            "type": "scattermapbox"
           }
          ],
          "scatterpolar": [
           {
            "marker": {
             "colorbar": {
              "outlinewidth": 0,
              "ticks": ""
             }
            },
            "type": "scatterpolar"
           }
          ],
          "scatterpolargl": [
           {
            "marker": {
             "colorbar": {
              "outlinewidth": 0,
              "ticks": ""
             }
            },
            "type": "scatterpolargl"
           }
          ],
          "scatterternary": [
           {
            "marker": {
             "colorbar": {
              "outlinewidth": 0,
              "ticks": ""
             }
            },
            "type": "scatterternary"
           }
          ],
          "surface": [
           {
            "colorbar": {
             "outlinewidth": 0,
             "ticks": ""
            },
            "colorscale": [
             [
              0,
              "#0d0887"
             ],
             [
              0.1111111111111111,
              "#46039f"
             ],
             [
              0.2222222222222222,
              "#7201a8"
             ],
             [
              0.3333333333333333,
              "#9c179e"
             ],
             [
              0.4444444444444444,
              "#bd3786"
             ],
             [
              0.5555555555555556,
              "#d8576b"
             ],
             [
              0.6666666666666666,
              "#ed7953"
             ],
             [
              0.7777777777777778,
              "#fb9f3a"
             ],
             [
              0.8888888888888888,
              "#fdca26"
             ],
             [
              1,
              "#f0f921"
             ]
            ],
            "type": "surface"
           }
          ],
          "table": [
           {
            "cells": {
             "fill": {
              "color": "#EBF0F8"
             },
             "line": {
              "color": "white"
             }
            },
            "header": {
             "fill": {
              "color": "#C8D4E3"
             },
             "line": {
              "color": "white"
             }
            },
            "type": "table"
           }
          ]
         },
         "layout": {
          "annotationdefaults": {
           "arrowcolor": "#2a3f5f",
           "arrowhead": 0,
           "arrowwidth": 1
          },
          "coloraxis": {
           "colorbar": {
            "outlinewidth": 0,
            "ticks": ""
           }
          },
          "colorscale": {
           "diverging": [
            [
             0,
             "#8e0152"
            ],
            [
             0.1,
             "#c51b7d"
            ],
            [
             0.2,
             "#de77ae"
            ],
            [
             0.3,
             "#f1b6da"
            ],
            [
             0.4,
             "#fde0ef"
            ],
            [
             0.5,
             "#f7f7f7"
            ],
            [
             0.6,
             "#e6f5d0"
            ],
            [
             0.7,
             "#b8e186"
            ],
            [
             0.8,
             "#7fbc41"
            ],
            [
             0.9,
             "#4d9221"
            ],
            [
             1,
             "#276419"
            ]
           ],
           "sequential": [
            [
             0,
             "#0d0887"
            ],
            [
             0.1111111111111111,
             "#46039f"
            ],
            [
             0.2222222222222222,
             "#7201a8"
            ],
            [
             0.3333333333333333,
             "#9c179e"
            ],
            [
             0.4444444444444444,
             "#bd3786"
            ],
            [
             0.5555555555555556,
             "#d8576b"
            ],
            [
             0.6666666666666666,
             "#ed7953"
            ],
            [
             0.7777777777777778,
             "#fb9f3a"
            ],
            [
             0.8888888888888888,
             "#fdca26"
            ],
            [
             1,
             "#f0f921"
            ]
           ],
           "sequentialminus": [
            [
             0,
             "#0d0887"
            ],
            [
             0.1111111111111111,
             "#46039f"
            ],
            [
             0.2222222222222222,
             "#7201a8"
            ],
            [
             0.3333333333333333,
             "#9c179e"
            ],
            [
             0.4444444444444444,
             "#bd3786"
            ],
            [
             0.5555555555555556,
             "#d8576b"
            ],
            [
             0.6666666666666666,
             "#ed7953"
            ],
            [
             0.7777777777777778,
             "#fb9f3a"
            ],
            [
             0.8888888888888888,
             "#fdca26"
            ],
            [
             1,
             "#f0f921"
            ]
           ]
          },
          "colorway": [
           "#636efa",
           "#EF553B",
           "#00cc96",
           "#ab63fa",
           "#FFA15A",
           "#19d3f3",
           "#FF6692",
           "#B6E880",
           "#FF97FF",
           "#FECB52"
          ],
          "font": {
           "color": "#2a3f5f"
          },
          "geo": {
           "bgcolor": "white",
           "lakecolor": "white",
           "landcolor": "#E5ECF6",
           "showlakes": true,
           "showland": true,
           "subunitcolor": "white"
          },
          "hoverlabel": {
           "align": "left"
          },
          "hovermode": "closest",
          "mapbox": {
           "style": "light"
          },
          "paper_bgcolor": "white",
          "plot_bgcolor": "#E5ECF6",
          "polar": {
           "angularaxis": {
            "gridcolor": "white",
            "linecolor": "white",
            "ticks": ""
           },
           "bgcolor": "#E5ECF6",
           "radialaxis": {
            "gridcolor": "white",
            "linecolor": "white",
            "ticks": ""
           }
          },
          "scene": {
           "xaxis": {
            "backgroundcolor": "#E5ECF6",
            "gridcolor": "white",
            "gridwidth": 2,
            "linecolor": "white",
            "showbackground": true,
            "ticks": "",
            "zerolinecolor": "white"
           },
           "yaxis": {
            "backgroundcolor": "#E5ECF6",
            "gridcolor": "white",
            "gridwidth": 2,
            "linecolor": "white",
            "showbackground": true,
            "ticks": "",
            "zerolinecolor": "white"
           },
           "zaxis": {
            "backgroundcolor": "#E5ECF6",
            "gridcolor": "white",
            "gridwidth": 2,
            "linecolor": "white",
            "showbackground": true,
            "ticks": "",
            "zerolinecolor": "white"
           }
          },
          "shapedefaults": {
           "line": {
            "color": "#2a3f5f"
           }
          },
          "ternary": {
           "aaxis": {
            "gridcolor": "white",
            "linecolor": "white",
            "ticks": ""
           },
           "baxis": {
            "gridcolor": "white",
            "linecolor": "white",
            "ticks": ""
           },
           "bgcolor": "#E5ECF6",
           "caxis": {
            "gridcolor": "white",
            "linecolor": "white",
            "ticks": ""
           }
          },
          "title": {
           "x": 0.05
          },
          "xaxis": {
           "automargin": true,
           "gridcolor": "white",
           "linecolor": "white",
           "ticks": "",
           "title": {
            "standoff": 15
           },
           "zerolinecolor": "white",
           "zerolinewidth": 2
          },
          "yaxis": {
           "automargin": true,
           "gridcolor": "white",
           "linecolor": "white",
           "ticks": "",
           "title": {
            "standoff": 15
           },
           "zerolinecolor": "white",
           "zerolinewidth": 2
          }
         }
        },
        "title": {
         "text": "New cases, day chosen",
         "x": 0.5,
         "xanchor": "center",
         "y": 0.9,
         "yanchor": "top"
        }
       }
      },
      "text/html": [
       "<div>\n",
       "        \n",
       "        \n",
       "            <div id=\"ebab50ef-1aac-496c-b93c-9e60b949bada\" class=\"plotly-graph-div\" style=\"height:525px; width:100%;\"></div>\n",
       "            <script type=\"text/javascript\">\n",
       "                require([\"plotly\"], function(Plotly) {\n",
       "                    window.PLOTLYENV=window.PLOTLYENV || {};\n",
       "                    \n",
       "                if (document.getElementById(\"ebab50ef-1aac-496c-b93c-9e60b949bada\")) {\n",
       "                    Plotly.newPlot(\n",
       "                        'ebab50ef-1aac-496c-b93c-9e60b949bada',\n",
       "                        [{\"name\": \"Europe\", \"type\": \"bar\", \"x\": [\"Albania\", \"Andorra\", \"Austria\", \"Belarus\", \"Belgium\", \"Bosnia and Herzegovina\", \"Bulgaria\", \"Croatia\", \"Cyprus\", \"Czech Republic\", \"Denmark\", \"Estonia\", \"Faeroe Islands\", \"Finland\", \"France\", \"Germany\", \"Gibraltar\", \"Greece\", \"Guernsey\", \"Hungary\", \"Iceland\", \"Ireland\", \"Isle of Man\", \"Italy\", \"Jersey\", \"Kosovo\", \"Latvia\", \"Liechtenstein\", \"Lithuania\", \"Luxembourg\", \"Macedonia\", \"Malta\", \"Moldova\", \"Monaco\", \"Montenegro\", \"Netherlands\", \"Norway\", \"Poland\", \"Portugal\", \"Romania\", \"Russia\", \"San Marino\", \"Serbia\", \"Slovakia\", \"Slovenia\", \"Spain\", \"Sweden\", \"Switzerland\", \"Ukraine\", \"United Kingdom\", \"Vatican\"], \"y\": [92.0, 4.0, 163.0, 147.0, 108.0, 678.0, 265.0, 78.0, 4.0, 249.0, 91.0, 9.0, 0.0, 9.0, 1377.0, 870.0, 1.0, 65.0, 0.0, 21.0, 11.0, 85.0, 0.0, 382.0, 0.0, 258.0, 4.0, 1.0, 19.0, 83.0, 119.0, 28.0, 0.0, 0.0, 57.0, 342.0, 22.0, 615.0, 255.0, 1356.0, 5509.0, 0.0, 321.0, 20.0, 24.0, 3092.0, 318.0, 219.0, 1197.0, 846.0, 0.0]}, {\"name\": \"North America\", \"type\": \"bar\", \"x\": [\"Anguilla\", \"Antigua and Barbuda\", \"Aruba\", \"Bahamas\", \"Barbados\", \"Belize\", \"Bermuda\", \"Bonaire Sint Eustatius and Saba\", \"British Virgin Islands\", \"Canada\", \"Cayman Islands\", \"Costa Rica\", \"Cuba\", \"Curacao\", \"Dominica\", \"Dominican Republic\", \"El Salvador\", \"Greenland\", \"Grenada\", \"Guatemala\", \"Haiti\", \"Honduras\", \"Jamaica\", \"Mexico\", \"Montserrat\", \"Nicaragua\", \"Panama\", \"Puerto Rico\", \"Saint Kitts and Nevis\", \"Saint Lucia\", \"Saint Vincent and the Grenadines\", \"Sint Maarten (Dutch part)\", \"Trinidad and Tobago\", \"Turks and Caicos Islands\", \"United States\", \"United States Virgin Islands\"], \"y\": [0.0, 0.0, 1.0, 24.0, 0.0, 0.0, 0.0, 0.0, 0.0, 329.0, 0.0, 490.0, 9.0, 0.0, 0.0, 1733.0, 389.0, 0.0, 0.0, 1221.0, 34.0, 482.0, 8.0, 7730.0, 0.0, 0.0, 922.0, 511.0, 0.0, 1.0, 0.0, 7.0, 8.0, 5.0, 68032.0, 0.0]}],\n",
       "                        {\"template\": {\"data\": {\"bar\": [{\"error_x\": {\"color\": \"#2a3f5f\"}, \"error_y\": {\"color\": \"#2a3f5f\"}, \"marker\": {\"line\": {\"color\": \"#E5ECF6\", \"width\": 0.5}}, \"type\": \"bar\"}], \"barpolar\": [{\"marker\": {\"line\": {\"color\": \"#E5ECF6\", \"width\": 0.5}}, \"type\": \"barpolar\"}], \"carpet\": [{\"aaxis\": {\"endlinecolor\": \"#2a3f5f\", \"gridcolor\": \"white\", \"linecolor\": \"white\", \"minorgridcolor\": \"white\", \"startlinecolor\": \"#2a3f5f\"}, \"baxis\": {\"endlinecolor\": \"#2a3f5f\", \"gridcolor\": \"white\", \"linecolor\": \"white\", \"minorgridcolor\": \"white\", \"startlinecolor\": \"#2a3f5f\"}, \"type\": \"carpet\"}], \"choropleth\": [{\"colorbar\": {\"outlinewidth\": 0, \"ticks\": \"\"}, \"type\": \"choropleth\"}], \"contour\": [{\"colorbar\": {\"outlinewidth\": 0, \"ticks\": \"\"}, \"colorscale\": [[0.0, \"#0d0887\"], [0.1111111111111111, \"#46039f\"], [0.2222222222222222, \"#7201a8\"], [0.3333333333333333, \"#9c179e\"], [0.4444444444444444, \"#bd3786\"], [0.5555555555555556, \"#d8576b\"], [0.6666666666666666, \"#ed7953\"], [0.7777777777777778, \"#fb9f3a\"], [0.8888888888888888, \"#fdca26\"], [1.0, \"#f0f921\"]], \"type\": \"contour\"}], \"contourcarpet\": [{\"colorbar\": {\"outlinewidth\": 0, \"ticks\": \"\"}, \"type\": \"contourcarpet\"}], \"heatmap\": [{\"colorbar\": {\"outlinewidth\": 0, \"ticks\": \"\"}, \"colorscale\": [[0.0, \"#0d0887\"], [0.1111111111111111, \"#46039f\"], [0.2222222222222222, \"#7201a8\"], [0.3333333333333333, \"#9c179e\"], [0.4444444444444444, \"#bd3786\"], [0.5555555555555556, \"#d8576b\"], [0.6666666666666666, \"#ed7953\"], [0.7777777777777778, \"#fb9f3a\"], [0.8888888888888888, \"#fdca26\"], [1.0, \"#f0f921\"]], \"type\": \"heatmap\"}], \"heatmapgl\": [{\"colorbar\": {\"outlinewidth\": 0, \"ticks\": \"\"}, \"colorscale\": [[0.0, \"#0d0887\"], [0.1111111111111111, \"#46039f\"], [0.2222222222222222, \"#7201a8\"], [0.3333333333333333, \"#9c179e\"], [0.4444444444444444, \"#bd3786\"], [0.5555555555555556, \"#d8576b\"], [0.6666666666666666, \"#ed7953\"], [0.7777777777777778, \"#fb9f3a\"], [0.8888888888888888, \"#fdca26\"], [1.0, \"#f0f921\"]], \"type\": \"heatmapgl\"}], \"histogram\": [{\"marker\": {\"colorbar\": {\"outlinewidth\": 0, \"ticks\": \"\"}}, \"type\": \"histogram\"}], \"histogram2d\": [{\"colorbar\": {\"outlinewidth\": 0, \"ticks\": \"\"}, \"colorscale\": [[0.0, \"#0d0887\"], [0.1111111111111111, \"#46039f\"], [0.2222222222222222, \"#7201a8\"], [0.3333333333333333, \"#9c179e\"], [0.4444444444444444, \"#bd3786\"], [0.5555555555555556, \"#d8576b\"], [0.6666666666666666, \"#ed7953\"], [0.7777777777777778, \"#fb9f3a\"], [0.8888888888888888, \"#fdca26\"], [1.0, \"#f0f921\"]], \"type\": \"histogram2d\"}], \"histogram2dcontour\": [{\"colorbar\": {\"outlinewidth\": 0, \"ticks\": \"\"}, \"colorscale\": [[0.0, \"#0d0887\"], [0.1111111111111111, \"#46039f\"], [0.2222222222222222, \"#7201a8\"], [0.3333333333333333, \"#9c179e\"], [0.4444444444444444, \"#bd3786\"], [0.5555555555555556, \"#d8576b\"], [0.6666666666666666, \"#ed7953\"], [0.7777777777777778, \"#fb9f3a\"], [0.8888888888888888, \"#fdca26\"], [1.0, \"#f0f921\"]], \"type\": \"histogram2dcontour\"}], \"mesh3d\": [{\"colorbar\": {\"outlinewidth\": 0, \"ticks\": \"\"}, \"type\": \"mesh3d\"}], \"parcoords\": [{\"line\": {\"colorbar\": {\"outlinewidth\": 0, \"ticks\": \"\"}}, \"type\": \"parcoords\"}], \"pie\": [{\"automargin\": true, \"type\": \"pie\"}], \"scatter\": [{\"marker\": {\"colorbar\": {\"outlinewidth\": 0, \"ticks\": \"\"}}, \"type\": \"scatter\"}], \"scatter3d\": [{\"line\": {\"colorbar\": {\"outlinewidth\": 0, \"ticks\": \"\"}}, \"marker\": {\"colorbar\": {\"outlinewidth\": 0, \"ticks\": \"\"}}, \"type\": \"scatter3d\"}], \"scattercarpet\": [{\"marker\": {\"colorbar\": {\"outlinewidth\": 0, \"ticks\": \"\"}}, \"type\": \"scattercarpet\"}], \"scattergeo\": [{\"marker\": {\"colorbar\": {\"outlinewidth\": 0, \"ticks\": \"\"}}, \"type\": \"scattergeo\"}], \"scattergl\": [{\"marker\": {\"colorbar\": {\"outlinewidth\": 0, \"ticks\": \"\"}}, \"type\": \"scattergl\"}], \"scattermapbox\": [{\"marker\": {\"colorbar\": {\"outlinewidth\": 0, \"ticks\": \"\"}}, \"type\": \"scattermapbox\"}], \"scatterpolar\": [{\"marker\": {\"colorbar\": {\"outlinewidth\": 0, \"ticks\": \"\"}}, \"type\": \"scatterpolar\"}], \"scatterpolargl\": [{\"marker\": {\"colorbar\": {\"outlinewidth\": 0, \"ticks\": \"\"}}, \"type\": \"scatterpolargl\"}], \"scatterternary\": [{\"marker\": {\"colorbar\": {\"outlinewidth\": 0, \"ticks\": \"\"}}, \"type\": \"scatterternary\"}], \"surface\": [{\"colorbar\": {\"outlinewidth\": 0, \"ticks\": \"\"}, \"colorscale\": [[0.0, \"#0d0887\"], [0.1111111111111111, \"#46039f\"], [0.2222222222222222, \"#7201a8\"], [0.3333333333333333, \"#9c179e\"], [0.4444444444444444, \"#bd3786\"], [0.5555555555555556, \"#d8576b\"], [0.6666666666666666, \"#ed7953\"], [0.7777777777777778, \"#fb9f3a\"], [0.8888888888888888, \"#fdca26\"], [1.0, \"#f0f921\"]], \"type\": \"surface\"}], \"table\": [{\"cells\": {\"fill\": {\"color\": \"#EBF0F8\"}, \"line\": {\"color\": \"white\"}}, \"header\": {\"fill\": {\"color\": \"#C8D4E3\"}, \"line\": {\"color\": \"white\"}}, \"type\": \"table\"}]}, \"layout\": {\"annotationdefaults\": {\"arrowcolor\": \"#2a3f5f\", \"arrowhead\": 0, \"arrowwidth\": 1}, \"coloraxis\": {\"colorbar\": {\"outlinewidth\": 0, \"ticks\": \"\"}}, \"colorscale\": {\"diverging\": [[0, \"#8e0152\"], [0.1, \"#c51b7d\"], [0.2, \"#de77ae\"], [0.3, \"#f1b6da\"], [0.4, \"#fde0ef\"], [0.5, \"#f7f7f7\"], [0.6, \"#e6f5d0\"], [0.7, \"#b8e186\"], [0.8, \"#7fbc41\"], [0.9, \"#4d9221\"], [1, \"#276419\"]], \"sequential\": [[0.0, \"#0d0887\"], [0.1111111111111111, \"#46039f\"], [0.2222222222222222, \"#7201a8\"], [0.3333333333333333, \"#9c179e\"], [0.4444444444444444, \"#bd3786\"], [0.5555555555555556, \"#d8576b\"], [0.6666666666666666, \"#ed7953\"], [0.7777777777777778, \"#fb9f3a\"], [0.8888888888888888, \"#fdca26\"], [1.0, \"#f0f921\"]], \"sequentialminus\": [[0.0, \"#0d0887\"], [0.1111111111111111, \"#46039f\"], [0.2222222222222222, \"#7201a8\"], [0.3333333333333333, \"#9c179e\"], [0.4444444444444444, \"#bd3786\"], [0.5555555555555556, \"#d8576b\"], [0.6666666666666666, \"#ed7953\"], [0.7777777777777778, \"#fb9f3a\"], [0.8888888888888888, \"#fdca26\"], [1.0, \"#f0f921\"]]}, \"colorway\": [\"#636efa\", \"#EF553B\", \"#00cc96\", \"#ab63fa\", \"#FFA15A\", \"#19d3f3\", \"#FF6692\", \"#B6E880\", \"#FF97FF\", \"#FECB52\"], \"font\": {\"color\": \"#2a3f5f\"}, \"geo\": {\"bgcolor\": \"white\", \"lakecolor\": \"white\", \"landcolor\": \"#E5ECF6\", \"showlakes\": true, \"showland\": true, \"subunitcolor\": \"white\"}, \"hoverlabel\": {\"align\": \"left\"}, \"hovermode\": \"closest\", \"mapbox\": {\"style\": \"light\"}, \"paper_bgcolor\": \"white\", \"plot_bgcolor\": \"#E5ECF6\", \"polar\": {\"angularaxis\": {\"gridcolor\": \"white\", \"linecolor\": \"white\", \"ticks\": \"\"}, \"bgcolor\": \"#E5ECF6\", \"radialaxis\": {\"gridcolor\": \"white\", \"linecolor\": \"white\", \"ticks\": \"\"}}, \"scene\": {\"xaxis\": {\"backgroundcolor\": \"#E5ECF6\", \"gridcolor\": \"white\", \"gridwidth\": 2, \"linecolor\": \"white\", \"showbackground\": true, \"ticks\": \"\", \"zerolinecolor\": \"white\"}, \"yaxis\": {\"backgroundcolor\": \"#E5ECF6\", \"gridcolor\": \"white\", \"gridwidth\": 2, \"linecolor\": \"white\", \"showbackground\": true, \"ticks\": \"\", \"zerolinecolor\": \"white\"}, \"zaxis\": {\"backgroundcolor\": \"#E5ECF6\", \"gridcolor\": \"white\", \"gridwidth\": 2, \"linecolor\": \"white\", \"showbackground\": true, \"ticks\": \"\", \"zerolinecolor\": \"white\"}}, \"shapedefaults\": {\"line\": {\"color\": \"#2a3f5f\"}}, \"ternary\": {\"aaxis\": {\"gridcolor\": \"white\", \"linecolor\": \"white\", \"ticks\": \"\"}, \"baxis\": {\"gridcolor\": \"white\", \"linecolor\": \"white\", \"ticks\": \"\"}, \"bgcolor\": \"#E5ECF6\", \"caxis\": {\"gridcolor\": \"white\", \"linecolor\": \"white\", \"ticks\": \"\"}}, \"title\": {\"x\": 0.05}, \"xaxis\": {\"automargin\": true, \"gridcolor\": \"white\", \"linecolor\": \"white\", \"ticks\": \"\", \"title\": {\"standoff\": 15}, \"zerolinecolor\": \"white\", \"zerolinewidth\": 2}, \"yaxis\": {\"automargin\": true, \"gridcolor\": \"white\", \"linecolor\": \"white\", \"ticks\": \"\", \"title\": {\"standoff\": 15}, \"zerolinecolor\": \"white\", \"zerolinewidth\": 2}}}, \"title\": {\"text\": \"New cases, day chosen\", \"x\": 0.5, \"xanchor\": \"center\", \"y\": 0.9, \"yanchor\": \"top\"}},\n",
       "                        {\"responsive\": true}\n",
       "                    ).then(function(){\n",
       "                            \n",
       "var gd = document.getElementById('ebab50ef-1aac-496c-b93c-9e60b949bada');\n",
       "var x = new MutationObserver(function (mutations, observer) {{\n",
       "        var display = window.getComputedStyle(gd).display;\n",
       "        if (!display || display === 'none') {{\n",
       "            console.log([gd, 'removed!']);\n",
       "            Plotly.purge(gd);\n",
       "            observer.disconnect();\n",
       "        }}\n",
       "}});\n",
       "\n",
       "// Listen for the removal of the full notebook cells\n",
       "var notebookContainer = gd.closest('#notebook-container');\n",
       "if (notebookContainer) {{\n",
       "    x.observe(notebookContainer, {childList: true});\n",
       "}}\n",
       "\n",
       "// Listen for the clearing of the current output cell\n",
       "var outputEl = gd.closest('.output');\n",
       "if (outputEl) {{\n",
       "    x.observe(outputEl, {childList: true});\n",
       "}}\n",
       "\n",
       "                        })\n",
       "                };\n",
       "                });\n",
       "            </script>\n",
       "        </div>"
      ]
     },
     "metadata": {},
     "output_type": "display_data"
    }
   ],
   "source": [
    "# PLOTS USING PLOTLY\n",
    "# grah bar\n",
    "trace1 = go.Bar(name = continent_sel1,\n",
    "                x = cov_df_con1[\"location\"],\n",
    "                y = cov_df_con1[\"new_cases\"],\n",
    "                )\n",
    "\n",
    "trace2 = go.Bar(name = continent_sel2,\n",
    "                x = cov_df_con2[\"location\"],\n",
    "                y = cov_df_con2[\"new_cases\"],\n",
    "               )\n",
    "                \n",
    "data = [trace1, trace2]\n",
    "\n",
    "fig = go.Figure(data = data)\n",
    "fig.update_layout(\n",
    "    title={\n",
    "        'text': \"New cases, day chosen\",\n",
    "        'y':0.9,\n",
    "        'x':0.5,\n",
    "        'xanchor': 'center',\n",
    "        'yanchor': 'top'})\n",
    "\n",
    "fig.show()"
   ]
  },
  {
   "cell_type": "code",
   "execution_count": 44,
   "metadata": {},
   "outputs": [
    {
     "data": {
      "application/vnd.plotly.v1+json": {
       "config": {
        "plotlyServerURL": "https://plot.ly"
       },
       "data": [
        {
         "locationmode": "country names",
         "locations": [
          "Albania",
          "Andorra",
          "Austria",
          "Belarus",
          "Belgium",
          "Bosnia and Herzegovina",
          "Bulgaria",
          "Croatia",
          "Cyprus",
          "Czech Republic",
          "Denmark",
          "Estonia",
          "Faeroe Islands",
          "Finland",
          "France",
          "Germany",
          "Gibraltar",
          "Greece",
          "Guernsey",
          "Hungary",
          "Iceland",
          "Ireland",
          "Isle of Man",
          "Italy",
          "Jersey",
          "Kosovo",
          "Latvia",
          "Liechtenstein",
          "Lithuania",
          "Luxembourg",
          "Macedonia",
          "Malta",
          "Moldova",
          "Monaco",
          "Montenegro",
          "Netherlands",
          "Norway",
          "Poland",
          "Portugal",
          "Romania",
          "Russia",
          "San Marino",
          "Serbia",
          "Slovakia",
          "Slovenia",
          "Spain",
          "Sweden",
          "Switzerland",
          "Ukraine",
          "United Kingdom",
          "Vatican"
         ],
         "marker": {
          "color": "lightseagreen",
          "line": {
           "color": "black",
           "width": 0.5
          },
          "size": [
           159.845,
           258.85,
           90.49,
           77.785,
           46.595,
           1033.28,
           190.69000000000003,
           95,
           22.835,
           116.25999999999999,
           78.55499999999999,
           33.925,
           0,
           8.120000000000001,
           105.48,
           51.92,
           148.41,
           31.180000000000003,
           0,
           10.87,
           161.17000000000002,
           86.07000000000001,
           0,
           31.589999999999996,
           0,
           667.435,
           10.605,
           131.105,
           34.895,
           662.9649999999999,
           285.595,
           317.075,
           0,
           0,
           453.775,
           99.795,
           20.29,
           81.25,
           125.04000000000002,
           352.43499999999995,
           188.75,
           0,
           235.87,
           18.315,
           57.72,
           330.66,
           157.435,
           126.52000000000001,
           136.85,
           62.31,
           0
          ],
          "sizemode": "area"
         },
         "text": [
          31.969,
          51.77,
          18.098,
          15.557,
          9.318999999999999,
          206.65599999999998,
          38.138000000000005,
          19,
          4.567,
          23.252,
          15.710999999999999,
          6.785,
          0,
          1.624,
          21.096,
          10.384,
          29.682,
          6.236000000000001,
          0,
          2.174,
          32.234,
          17.214000000000002,
          0,
          6.318,
          0,
          133.487,
          2.121,
          26.221,
          6.979,
          132.593,
          57.119,
          63.415,
          0,
          0,
          90.755,
          19.959,
          4.058,
          16.25,
          25.008000000000003,
          70.487,
          37.75,
          0,
          47.174,
          3.6630000000000003,
          11.544,
          66.132,
          31.487,
          25.304000000000002,
          27.37,
          12.462,
          0
         ],
         "type": "scattergeo"
        },
        {
         "locationmode": "country names",
         "locations": [
          "Albania",
          "Andorra",
          "Austria",
          "Belarus",
          "Belgium",
          "Bosnia and Herzegovina",
          "Bulgaria",
          "Croatia",
          "Cyprus",
          "Czech Republic",
          "Denmark",
          "Estonia",
          "Faeroe Islands",
          "Finland",
          "France",
          "Germany",
          "Gibraltar",
          "Greece",
          "Guernsey",
          "Hungary",
          "Iceland",
          "Ireland",
          "Isle of Man",
          "Italy",
          "Jersey",
          "Kosovo",
          "Latvia",
          "Liechtenstein",
          "Lithuania",
          "Luxembourg",
          "Macedonia",
          "Malta",
          "Moldova",
          "Monaco",
          "Montenegro",
          "Netherlands",
          "Norway",
          "Poland",
          "Portugal",
          "Romania",
          "Russia",
          "San Marino",
          "Serbia",
          "Slovakia",
          "Slovenia",
          "Spain",
          "Sweden",
          "Switzerland",
          "Ukraine",
          "United Kingdom",
          "Vatican"
         ],
         "marker": {
          "color": "lightseagreen",
          "line": {
           "color": "black",
           "width": 0.5
          },
          "size": [
           159.845,
           258.85,
           90.49,
           77.785,
           46.595,
           1033.28,
           190.69000000000003,
           95,
           22.835,
           116.25999999999999,
           78.55499999999999,
           33.925,
           0,
           8.120000000000001,
           105.48,
           51.92,
           148.41,
           31.180000000000003,
           0,
           10.87,
           161.17000000000002,
           86.07000000000001,
           0,
           31.589999999999996,
           0,
           667.435,
           10.605,
           131.105,
           34.895,
           662.9649999999999,
           285.595,
           317.075,
           0,
           0,
           453.775,
           99.795,
           20.29,
           81.25,
           125.04000000000002,
           352.43499999999995,
           188.75,
           0,
           235.87,
           18.315,
           57.72,
           330.66,
           157.435,
           126.52000000000001,
           136.85,
           62.31,
           0
          ],
          "sizemode": "area"
         },
         "text": [
          31.969,
          51.77,
          18.098,
          15.557,
          9.318999999999999,
          206.65599999999998,
          38.138000000000005,
          19,
          4.567,
          23.252,
          15.710999999999999,
          6.785,
          0,
          1.624,
          21.096,
          10.384,
          29.682,
          6.236000000000001,
          0,
          2.174,
          32.234,
          17.214000000000002,
          0,
          6.318,
          0,
          133.487,
          2.121,
          26.221,
          6.979,
          132.593,
          57.119,
          63.415,
          0,
          0,
          90.755,
          19.959,
          4.058,
          16.25,
          25.008000000000003,
          70.487,
          37.75,
          0,
          47.174,
          3.6630000000000003,
          11.544,
          66.132,
          31.487,
          25.304000000000002,
          27.37,
          12.462,
          0
         ],
         "type": "scattergeo"
        },
        {
         "locationmode": "country names",
         "locations": [
          "Albania",
          "Andorra",
          "Austria",
          "Belarus",
          "Belgium",
          "Bosnia and Herzegovina",
          "Bulgaria",
          "Croatia",
          "Cyprus",
          "Czech Republic",
          "Denmark",
          "Estonia",
          "Faeroe Islands",
          "Finland",
          "France",
          "Germany",
          "Gibraltar",
          "Greece",
          "Guernsey",
          "Hungary",
          "Iceland",
          "Ireland",
          "Isle of Man",
          "Italy",
          "Jersey",
          "Kosovo",
          "Latvia",
          "Liechtenstein",
          "Lithuania",
          "Luxembourg",
          "Macedonia",
          "Malta",
          "Moldova",
          "Monaco",
          "Montenegro",
          "Netherlands",
          "Norway",
          "Poland",
          "Portugal",
          "Romania",
          "Russia",
          "San Marino",
          "Serbia",
          "Slovakia",
          "Slovenia",
          "Spain",
          "Sweden",
          "Switzerland",
          "Ukraine",
          "United Kingdom",
          "Vatican"
         ],
         "marker": {
          "color": "lightseagreen",
          "line": {
           "color": "black",
           "width": 0.5
          },
          "size": [
           159.845,
           258.85,
           90.49,
           77.785,
           46.595,
           1033.28,
           190.69000000000003,
           95,
           22.835,
           116.25999999999999,
           78.55499999999999,
           33.925,
           0,
           8.120000000000001,
           105.48,
           51.92,
           148.41,
           31.180000000000003,
           0,
           10.87,
           161.17000000000002,
           86.07000000000001,
           0,
           31.589999999999996,
           0,
           667.435,
           10.605,
           131.105,
           34.895,
           662.9649999999999,
           285.595,
           317.075,
           0,
           0,
           453.775,
           99.795,
           20.29,
           81.25,
           125.04000000000002,
           352.43499999999995,
           188.75,
           0,
           235.87,
           18.315,
           57.72,
           330.66,
           157.435,
           126.52000000000001,
           136.85,
           62.31,
           0
          ],
          "sizemode": "area"
         },
         "text": [
          31.969,
          51.77,
          18.098,
          15.557,
          9.318999999999999,
          206.65599999999998,
          38.138000000000005,
          19,
          4.567,
          23.252,
          15.710999999999999,
          6.785,
          0,
          1.624,
          21.096,
          10.384,
          29.682,
          6.236000000000001,
          0,
          2.174,
          32.234,
          17.214000000000002,
          0,
          6.318,
          0,
          133.487,
          2.121,
          26.221,
          6.979,
          132.593,
          57.119,
          63.415,
          0,
          0,
          90.755,
          19.959,
          4.058,
          16.25,
          25.008000000000003,
          70.487,
          37.75,
          0,
          47.174,
          3.6630000000000003,
          11.544,
          66.132,
          31.487,
          25.304000000000002,
          27.37,
          12.462,
          0
         ],
         "type": "scattergeo"
        },
        {
         "locationmode": "country names",
         "locations": [
          "Albania",
          "Andorra",
          "Austria",
          "Belarus",
          "Belgium",
          "Bosnia and Herzegovina",
          "Bulgaria",
          "Croatia",
          "Cyprus",
          "Czech Republic",
          "Denmark",
          "Estonia",
          "Faeroe Islands",
          "Finland",
          "France",
          "Germany",
          "Gibraltar",
          "Greece",
          "Guernsey",
          "Hungary",
          "Iceland",
          "Ireland",
          "Isle of Man",
          "Italy",
          "Jersey",
          "Kosovo",
          "Latvia",
          "Liechtenstein",
          "Lithuania",
          "Luxembourg",
          "Macedonia",
          "Malta",
          "Moldova",
          "Monaco",
          "Montenegro",
          "Netherlands",
          "Norway",
          "Poland",
          "Portugal",
          "Romania",
          "Russia",
          "San Marino",
          "Serbia",
          "Slovakia",
          "Slovenia",
          "Spain",
          "Sweden",
          "Switzerland",
          "Ukraine",
          "United Kingdom",
          "Vatican"
         ],
         "marker": {
          "color": "lightseagreen",
          "line": {
           "color": "black",
           "width": 0.5
          },
          "size": [
           159.845,
           258.85,
           90.49,
           77.785,
           46.595,
           1033.28,
           190.69000000000003,
           95,
           22.835,
           116.25999999999999,
           78.55499999999999,
           33.925,
           0,
           8.120000000000001,
           105.48,
           51.92,
           148.41,
           31.180000000000003,
           0,
           10.87,
           161.17000000000002,
           86.07000000000001,
           0,
           31.589999999999996,
           0,
           667.435,
           10.605,
           131.105,
           34.895,
           662.9649999999999,
           285.595,
           317.075,
           0,
           0,
           453.775,
           99.795,
           20.29,
           81.25,
           125.04000000000002,
           352.43499999999995,
           188.75,
           0,
           235.87,
           18.315,
           57.72,
           330.66,
           157.435,
           126.52000000000001,
           136.85,
           62.31,
           0
          ],
          "sizemode": "area"
         },
         "text": [
          31.969,
          51.77,
          18.098,
          15.557,
          9.318999999999999,
          206.65599999999998,
          38.138000000000005,
          19,
          4.567,
          23.252,
          15.710999999999999,
          6.785,
          0,
          1.624,
          21.096,
          10.384,
          29.682,
          6.236000000000001,
          0,
          2.174,
          32.234,
          17.214000000000002,
          0,
          6.318,
          0,
          133.487,
          2.121,
          26.221,
          6.979,
          132.593,
          57.119,
          63.415,
          0,
          0,
          90.755,
          19.959,
          4.058,
          16.25,
          25.008000000000003,
          70.487,
          37.75,
          0,
          47.174,
          3.6630000000000003,
          11.544,
          66.132,
          31.487,
          25.304000000000002,
          27.37,
          12.462,
          0
         ],
         "type": "scattergeo"
        },
        {
         "locationmode": "country names",
         "locations": [
          "Albania",
          "Andorra",
          "Austria",
          "Belarus",
          "Belgium",
          "Bosnia and Herzegovina",
          "Bulgaria",
          "Croatia",
          "Cyprus",
          "Czech Republic",
          "Denmark",
          "Estonia",
          "Faeroe Islands",
          "Finland",
          "France",
          "Germany",
          "Gibraltar",
          "Greece",
          "Guernsey",
          "Hungary",
          "Iceland",
          "Ireland",
          "Isle of Man",
          "Italy",
          "Jersey",
          "Kosovo",
          "Latvia",
          "Liechtenstein",
          "Lithuania",
          "Luxembourg",
          "Macedonia",
          "Malta",
          "Moldova",
          "Monaco",
          "Montenegro",
          "Netherlands",
          "Norway",
          "Poland",
          "Portugal",
          "Romania",
          "Russia",
          "San Marino",
          "Serbia",
          "Slovakia",
          "Slovenia",
          "Spain",
          "Sweden",
          "Switzerland",
          "Ukraine",
          "United Kingdom",
          "Vatican"
         ],
         "marker": {
          "color": "lightseagreen",
          "line": {
           "color": "black",
           "width": 0.5
          },
          "size": [
           159.845,
           258.85,
           90.49,
           77.785,
           46.595,
           1033.28,
           190.69000000000003,
           95,
           22.835,
           116.25999999999999,
           78.55499999999999,
           33.925,
           0,
           8.120000000000001,
           105.48,
           51.92,
           148.41,
           31.180000000000003,
           0,
           10.87,
           161.17000000000002,
           86.07000000000001,
           0,
           31.589999999999996,
           0,
           667.435,
           10.605,
           131.105,
           34.895,
           662.9649999999999,
           285.595,
           317.075,
           0,
           0,
           453.775,
           99.795,
           20.29,
           81.25,
           125.04000000000002,
           352.43499999999995,
           188.75,
           0,
           235.87,
           18.315,
           57.72,
           330.66,
           157.435,
           126.52000000000001,
           136.85,
           62.31,
           0
          ],
          "sizemode": "area"
         },
         "text": [
          31.969,
          51.77,
          18.098,
          15.557,
          9.318999999999999,
          206.65599999999998,
          38.138000000000005,
          19,
          4.567,
          23.252,
          15.710999999999999,
          6.785,
          0,
          1.624,
          21.096,
          10.384,
          29.682,
          6.236000000000001,
          0,
          2.174,
          32.234,
          17.214000000000002,
          0,
          6.318,
          0,
          133.487,
          2.121,
          26.221,
          6.979,
          132.593,
          57.119,
          63.415,
          0,
          0,
          90.755,
          19.959,
          4.058,
          16.25,
          25.008000000000003,
          70.487,
          37.75,
          0,
          47.174,
          3.6630000000000003,
          11.544,
          66.132,
          31.487,
          25.304000000000002,
          27.37,
          12.462,
          0
         ],
         "type": "scattergeo"
        }
       ],
       "layout": {
        "geo": {
         "coastlinecolor": "#000000",
         "lakecolor": "#0c59f2",
         "landcolor": "#0aa861",
         "oceancolor": "#abbcde",
         "projection": {
          "type": "mollweide"
         },
         "resolution": 110,
         "scope": "europe",
         "showcoastlines": true,
         "showocean": true
        },
        "showlegend": false,
        "template": {
         "data": {
          "bar": [
           {
            "error_x": {
             "color": "#2a3f5f"
            },
            "error_y": {
             "color": "#2a3f5f"
            },
            "marker": {
             "line": {
              "color": "#E5ECF6",
              "width": 0.5
             }
            },
            "type": "bar"
           }
          ],
          "barpolar": [
           {
            "marker": {
             "line": {
              "color": "#E5ECF6",
              "width": 0.5
             }
            },
            "type": "barpolar"
           }
          ],
          "carpet": [
           {
            "aaxis": {
             "endlinecolor": "#2a3f5f",
             "gridcolor": "white",
             "linecolor": "white",
             "minorgridcolor": "white",
             "startlinecolor": "#2a3f5f"
            },
            "baxis": {
             "endlinecolor": "#2a3f5f",
             "gridcolor": "white",
             "linecolor": "white",
             "minorgridcolor": "white",
             "startlinecolor": "#2a3f5f"
            },
            "type": "carpet"
           }
          ],
          "choropleth": [
           {
            "colorbar": {
             "outlinewidth": 0,
             "ticks": ""
            },
            "type": "choropleth"
           }
          ],
          "contour": [
           {
            "colorbar": {
             "outlinewidth": 0,
             "ticks": ""
            },
            "colorscale": [
             [
              0,
              "#0d0887"
             ],
             [
              0.1111111111111111,
              "#46039f"
             ],
             [
              0.2222222222222222,
              "#7201a8"
             ],
             [
              0.3333333333333333,
              "#9c179e"
             ],
             [
              0.4444444444444444,
              "#bd3786"
             ],
             [
              0.5555555555555556,
              "#d8576b"
             ],
             [
              0.6666666666666666,
              "#ed7953"
             ],
             [
              0.7777777777777778,
              "#fb9f3a"
             ],
             [
              0.8888888888888888,
              "#fdca26"
             ],
             [
              1,
              "#f0f921"
             ]
            ],
            "type": "contour"
           }
          ],
          "contourcarpet": [
           {
            "colorbar": {
             "outlinewidth": 0,
             "ticks": ""
            },
            "type": "contourcarpet"
           }
          ],
          "heatmap": [
           {
            "colorbar": {
             "outlinewidth": 0,
             "ticks": ""
            },
            "colorscale": [
             [
              0,
              "#0d0887"
             ],
             [
              0.1111111111111111,
              "#46039f"
             ],
             [
              0.2222222222222222,
              "#7201a8"
             ],
             [
              0.3333333333333333,
              "#9c179e"
             ],
             [
              0.4444444444444444,
              "#bd3786"
             ],
             [
              0.5555555555555556,
              "#d8576b"
             ],
             [
              0.6666666666666666,
              "#ed7953"
             ],
             [
              0.7777777777777778,
              "#fb9f3a"
             ],
             [
              0.8888888888888888,
              "#fdca26"
             ],
             [
              1,
              "#f0f921"
             ]
            ],
            "type": "heatmap"
           }
          ],
          "heatmapgl": [
           {
            "colorbar": {
             "outlinewidth": 0,
             "ticks": ""
            },
            "colorscale": [
             [
              0,
              "#0d0887"
             ],
             [
              0.1111111111111111,
              "#46039f"
             ],
             [
              0.2222222222222222,
              "#7201a8"
             ],
             [
              0.3333333333333333,
              "#9c179e"
             ],
             [
              0.4444444444444444,
              "#bd3786"
             ],
             [
              0.5555555555555556,
              "#d8576b"
             ],
             [
              0.6666666666666666,
              "#ed7953"
             ],
             [
              0.7777777777777778,
              "#fb9f3a"
             ],
             [
              0.8888888888888888,
              "#fdca26"
             ],
             [
              1,
              "#f0f921"
             ]
            ],
            "type": "heatmapgl"
           }
          ],
          "histogram": [
           {
            "marker": {
             "colorbar": {
              "outlinewidth": 0,
              "ticks": ""
             }
            },
            "type": "histogram"
           }
          ],
          "histogram2d": [
           {
            "colorbar": {
             "outlinewidth": 0,
             "ticks": ""
            },
            "colorscale": [
             [
              0,
              "#0d0887"
             ],
             [
              0.1111111111111111,
              "#46039f"
             ],
             [
              0.2222222222222222,
              "#7201a8"
             ],
             [
              0.3333333333333333,
              "#9c179e"
             ],
             [
              0.4444444444444444,
              "#bd3786"
             ],
             [
              0.5555555555555556,
              "#d8576b"
             ],
             [
              0.6666666666666666,
              "#ed7953"
             ],
             [
              0.7777777777777778,
              "#fb9f3a"
             ],
             [
              0.8888888888888888,
              "#fdca26"
             ],
             [
              1,
              "#f0f921"
             ]
            ],
            "type": "histogram2d"
           }
          ],
          "histogram2dcontour": [
           {
            "colorbar": {
             "outlinewidth": 0,
             "ticks": ""
            },
            "colorscale": [
             [
              0,
              "#0d0887"
             ],
             [
              0.1111111111111111,
              "#46039f"
             ],
             [
              0.2222222222222222,
              "#7201a8"
             ],
             [
              0.3333333333333333,
              "#9c179e"
             ],
             [
              0.4444444444444444,
              "#bd3786"
             ],
             [
              0.5555555555555556,
              "#d8576b"
             ],
             [
              0.6666666666666666,
              "#ed7953"
             ],
             [
              0.7777777777777778,
              "#fb9f3a"
             ],
             [
              0.8888888888888888,
              "#fdca26"
             ],
             [
              1,
              "#f0f921"
             ]
            ],
            "type": "histogram2dcontour"
           }
          ],
          "mesh3d": [
           {
            "colorbar": {
             "outlinewidth": 0,
             "ticks": ""
            },
            "type": "mesh3d"
           }
          ],
          "parcoords": [
           {
            "line": {
             "colorbar": {
              "outlinewidth": 0,
              "ticks": ""
             }
            },
            "type": "parcoords"
           }
          ],
          "pie": [
           {
            "automargin": true,
            "type": "pie"
           }
          ],
          "scatter": [
           {
            "marker": {
             "colorbar": {
              "outlinewidth": 0,
              "ticks": ""
             }
            },
            "type": "scatter"
           }
          ],
          "scatter3d": [
           {
            "line": {
             "colorbar": {
              "outlinewidth": 0,
              "ticks": ""
             }
            },
            "marker": {
             "colorbar": {
              "outlinewidth": 0,
              "ticks": ""
             }
            },
            "type": "scatter3d"
           }
          ],
          "scattercarpet": [
           {
            "marker": {
             "colorbar": {
              "outlinewidth": 0,
              "ticks": ""
             }
            },
            "type": "scattercarpet"
           }
          ],
          "scattergeo": [
           {
            "marker": {
             "colorbar": {
              "outlinewidth": 0,
              "ticks": ""
             }
            },
            "type": "scattergeo"
           }
          ],
          "scattergl": [
           {
            "marker": {
             "colorbar": {
              "outlinewidth": 0,
              "ticks": ""
             }
            },
            "type": "scattergl"
           }
          ],
          "scattermapbox": [
           {
            "marker": {
             "colorbar": {
              "outlinewidth": 0,
              "ticks": ""
             }
            },
            "type": "scattermapbox"
           }
          ],
          "scatterpolar": [
           {
            "marker": {
             "colorbar": {
              "outlinewidth": 0,
              "ticks": ""
             }
            },
            "type": "scatterpolar"
           }
          ],
          "scatterpolargl": [
           {
            "marker": {
             "colorbar": {
              "outlinewidth": 0,
              "ticks": ""
             }
            },
            "type": "scatterpolargl"
           }
          ],
          "scatterternary": [
           {
            "marker": {
             "colorbar": {
              "outlinewidth": 0,
              "ticks": ""
             }
            },
            "type": "scatterternary"
           }
          ],
          "surface": [
           {
            "colorbar": {
             "outlinewidth": 0,
             "ticks": ""
            },
            "colorscale": [
             [
              0,
              "#0d0887"
             ],
             [
              0.1111111111111111,
              "#46039f"
             ],
             [
              0.2222222222222222,
              "#7201a8"
             ],
             [
              0.3333333333333333,
              "#9c179e"
             ],
             [
              0.4444444444444444,
              "#bd3786"
             ],
             [
              0.5555555555555556,
              "#d8576b"
             ],
             [
              0.6666666666666666,
              "#ed7953"
             ],
             [
              0.7777777777777778,
              "#fb9f3a"
             ],
             [
              0.8888888888888888,
              "#fdca26"
             ],
             [
              1,
              "#f0f921"
             ]
            ],
            "type": "surface"
           }
          ],
          "table": [
           {
            "cells": {
             "fill": {
              "color": "#EBF0F8"
             },
             "line": {
              "color": "white"
             }
            },
            "header": {
             "fill": {
              "color": "#C8D4E3"
             },
             "line": {
              "color": "white"
             }
            },
            "type": "table"
           }
          ]
         },
         "layout": {
          "annotationdefaults": {
           "arrowcolor": "#2a3f5f",
           "arrowhead": 0,
           "arrowwidth": 1
          },
          "coloraxis": {
           "colorbar": {
            "outlinewidth": 0,
            "ticks": ""
           }
          },
          "colorscale": {
           "diverging": [
            [
             0,
             "#8e0152"
            ],
            [
             0.1,
             "#c51b7d"
            ],
            [
             0.2,
             "#de77ae"
            ],
            [
             0.3,
             "#f1b6da"
            ],
            [
             0.4,
             "#fde0ef"
            ],
            [
             0.5,
             "#f7f7f7"
            ],
            [
             0.6,
             "#e6f5d0"
            ],
            [
             0.7,
             "#b8e186"
            ],
            [
             0.8,
             "#7fbc41"
            ],
            [
             0.9,
             "#4d9221"
            ],
            [
             1,
             "#276419"
            ]
           ],
           "sequential": [
            [
             0,
             "#0d0887"
            ],
            [
             0.1111111111111111,
             "#46039f"
            ],
            [
             0.2222222222222222,
             "#7201a8"
            ],
            [
             0.3333333333333333,
             "#9c179e"
            ],
            [
             0.4444444444444444,
             "#bd3786"
            ],
            [
             0.5555555555555556,
             "#d8576b"
            ],
            [
             0.6666666666666666,
             "#ed7953"
            ],
            [
             0.7777777777777778,
             "#fb9f3a"
            ],
            [
             0.8888888888888888,
             "#fdca26"
            ],
            [
             1,
             "#f0f921"
            ]
           ],
           "sequentialminus": [
            [
             0,
             "#0d0887"
            ],
            [
             0.1111111111111111,
             "#46039f"
            ],
            [
             0.2222222222222222,
             "#7201a8"
            ],
            [
             0.3333333333333333,
             "#9c179e"
            ],
            [
             0.4444444444444444,
             "#bd3786"
            ],
            [
             0.5555555555555556,
             "#d8576b"
            ],
            [
             0.6666666666666666,
             "#ed7953"
            ],
            [
             0.7777777777777778,
             "#fb9f3a"
            ],
            [
             0.8888888888888888,
             "#fdca26"
            ],
            [
             1,
             "#f0f921"
            ]
           ]
          },
          "colorway": [
           "#636efa",
           "#EF553B",
           "#00cc96",
           "#ab63fa",
           "#FFA15A",
           "#19d3f3",
           "#FF6692",
           "#B6E880",
           "#FF97FF",
           "#FECB52"
          ],
          "font": {
           "color": "#2a3f5f"
          },
          "geo": {
           "bgcolor": "white",
           "lakecolor": "white",
           "landcolor": "#E5ECF6",
           "showlakes": true,
           "showland": true,
           "subunitcolor": "white"
          },
          "hoverlabel": {
           "align": "left"
          },
          "hovermode": "closest",
          "mapbox": {
           "style": "light"
          },
          "paper_bgcolor": "white",
          "plot_bgcolor": "#E5ECF6",
          "polar": {
           "angularaxis": {
            "gridcolor": "white",
            "linecolor": "white",
            "ticks": ""
           },
           "bgcolor": "#E5ECF6",
           "radialaxis": {
            "gridcolor": "white",
            "linecolor": "white",
            "ticks": ""
           }
          },
          "scene": {
           "xaxis": {
            "backgroundcolor": "#E5ECF6",
            "gridcolor": "white",
            "gridwidth": 2,
            "linecolor": "white",
            "showbackground": true,
            "ticks": "",
            "zerolinecolor": "white"
           },
           "yaxis": {
            "backgroundcolor": "#E5ECF6",
            "gridcolor": "white",
            "gridwidth": 2,
            "linecolor": "white",
            "showbackground": true,
            "ticks": "",
            "zerolinecolor": "white"
           },
           "zaxis": {
            "backgroundcolor": "#E5ECF6",
            "gridcolor": "white",
            "gridwidth": 2,
            "linecolor": "white",
            "showbackground": true,
            "ticks": "",
            "zerolinecolor": "white"
           }
          },
          "shapedefaults": {
           "line": {
            "color": "#2a3f5f"
           }
          },
          "ternary": {
           "aaxis": {
            "gridcolor": "white",
            "linecolor": "white",
            "ticks": ""
           },
           "baxis": {
            "gridcolor": "white",
            "linecolor": "white",
            "ticks": ""
           },
           "bgcolor": "#E5ECF6",
           "caxis": {
            "gridcolor": "white",
            "linecolor": "white",
            "ticks": ""
           }
          },
          "title": {
           "x": 0.05
          },
          "xaxis": {
           "automargin": true,
           "gridcolor": "white",
           "linecolor": "white",
           "ticks": "",
           "title": {
            "standoff": 15
           },
           "zerolinecolor": "white",
           "zerolinewidth": 2
          },
          "yaxis": {
           "automargin": true,
           "gridcolor": "white",
           "linecolor": "white",
           "ticks": "",
           "title": {
            "standoff": 15
           },
           "zerolinecolor": "white",
           "zerolinewidth": 2
          }
         }
        },
        "title": {
         "text": "New casesEurope per million habitants, 2020-07-31"
        }
       }
      },
      "text/html": [
       "<div>\n",
       "        \n",
       "        \n",
       "            <div id=\"0442695b-e57b-4cef-9134-a68f5676ae88\" class=\"plotly-graph-div\" style=\"height:525px; width:100%;\"></div>\n",
       "            <script type=\"text/javascript\">\n",
       "                require([\"plotly\"], function(Plotly) {\n",
       "                    window.PLOTLYENV=window.PLOTLYENV || {};\n",
       "                    \n",
       "                if (document.getElementById(\"0442695b-e57b-4cef-9134-a68f5676ae88\")) {\n",
       "                    Plotly.newPlot(\n",
       "                        '0442695b-e57b-4cef-9134-a68f5676ae88',\n",
       "                        [{\"locationmode\": \"country names\", \"locations\": [\"Albania\", \"Andorra\", \"Austria\", \"Belarus\", \"Belgium\", \"Bosnia and Herzegovina\", \"Bulgaria\", \"Croatia\", \"Cyprus\", \"Czech Republic\", \"Denmark\", \"Estonia\", \"Faeroe Islands\", \"Finland\", \"France\", \"Germany\", \"Gibraltar\", \"Greece\", \"Guernsey\", \"Hungary\", \"Iceland\", \"Ireland\", \"Isle of Man\", \"Italy\", \"Jersey\", \"Kosovo\", \"Latvia\", \"Liechtenstein\", \"Lithuania\", \"Luxembourg\", \"Macedonia\", \"Malta\", \"Moldova\", \"Monaco\", \"Montenegro\", \"Netherlands\", \"Norway\", \"Poland\", \"Portugal\", \"Romania\", \"Russia\", \"San Marino\", \"Serbia\", \"Slovakia\", \"Slovenia\", \"Spain\", \"Sweden\", \"Switzerland\", \"Ukraine\", \"United Kingdom\", \"Vatican\"], \"marker\": {\"color\": \"lightseagreen\", \"line\": {\"color\": \"black\", \"width\": 0.5}, \"size\": [159.845, 258.85, 90.49, 77.785, 46.595, 1033.28, 190.69000000000003, 95.0, 22.835, 116.25999999999999, 78.55499999999999, 33.925, 0.0, 8.120000000000001, 105.48, 51.92, 148.41, 31.180000000000003, 0.0, 10.87, 161.17000000000002, 86.07000000000001, 0.0, 31.589999999999996, 0.0, 667.435, 10.605, 131.105, 34.895, 662.9649999999999, 285.595, 317.075, 0.0, 0.0, 453.775, 99.795, 20.29, 81.25, 125.04000000000002, 352.43499999999995, 188.75, 0.0, 235.87, 18.315, 57.72, 330.66, 157.435, 126.52000000000001, 136.85, 62.31, 0.0], \"sizemode\": \"area\"}, \"text\": [31.969, 51.77, 18.098, 15.557, 9.318999999999999, 206.65599999999998, 38.138000000000005, 19.0, 4.567, 23.252, 15.710999999999999, 6.785, 0.0, 1.624, 21.096, 10.384, 29.682, 6.236000000000001, 0.0, 2.174, 32.234, 17.214000000000002, 0.0, 6.318, 0.0, 133.487, 2.121, 26.221, 6.979, 132.593, 57.119, 63.415, 0.0, 0.0, 90.755, 19.959, 4.058, 16.25, 25.008000000000003, 70.487, 37.75, 0.0, 47.174, 3.6630000000000003, 11.544, 66.132, 31.487, 25.304000000000002, 27.37, 12.462, 0.0], \"type\": \"scattergeo\"}, {\"locationmode\": \"country names\", \"locations\": [\"Albania\", \"Andorra\", \"Austria\", \"Belarus\", \"Belgium\", \"Bosnia and Herzegovina\", \"Bulgaria\", \"Croatia\", \"Cyprus\", \"Czech Republic\", \"Denmark\", \"Estonia\", \"Faeroe Islands\", \"Finland\", \"France\", \"Germany\", \"Gibraltar\", \"Greece\", \"Guernsey\", \"Hungary\", \"Iceland\", \"Ireland\", \"Isle of Man\", \"Italy\", \"Jersey\", \"Kosovo\", \"Latvia\", \"Liechtenstein\", \"Lithuania\", \"Luxembourg\", \"Macedonia\", \"Malta\", \"Moldova\", \"Monaco\", \"Montenegro\", \"Netherlands\", \"Norway\", \"Poland\", \"Portugal\", \"Romania\", \"Russia\", \"San Marino\", \"Serbia\", \"Slovakia\", \"Slovenia\", \"Spain\", \"Sweden\", \"Switzerland\", \"Ukraine\", \"United Kingdom\", \"Vatican\"], \"marker\": {\"color\": \"lightseagreen\", \"line\": {\"color\": \"black\", \"width\": 0.5}, \"size\": [159.845, 258.85, 90.49, 77.785, 46.595, 1033.28, 190.69000000000003, 95.0, 22.835, 116.25999999999999, 78.55499999999999, 33.925, 0.0, 8.120000000000001, 105.48, 51.92, 148.41, 31.180000000000003, 0.0, 10.87, 161.17000000000002, 86.07000000000001, 0.0, 31.589999999999996, 0.0, 667.435, 10.605, 131.105, 34.895, 662.9649999999999, 285.595, 317.075, 0.0, 0.0, 453.775, 99.795, 20.29, 81.25, 125.04000000000002, 352.43499999999995, 188.75, 0.0, 235.87, 18.315, 57.72, 330.66, 157.435, 126.52000000000001, 136.85, 62.31, 0.0], \"sizemode\": \"area\"}, \"text\": [31.969, 51.77, 18.098, 15.557, 9.318999999999999, 206.65599999999998, 38.138000000000005, 19.0, 4.567, 23.252, 15.710999999999999, 6.785, 0.0, 1.624, 21.096, 10.384, 29.682, 6.236000000000001, 0.0, 2.174, 32.234, 17.214000000000002, 0.0, 6.318, 0.0, 133.487, 2.121, 26.221, 6.979, 132.593, 57.119, 63.415, 0.0, 0.0, 90.755, 19.959, 4.058, 16.25, 25.008000000000003, 70.487, 37.75, 0.0, 47.174, 3.6630000000000003, 11.544, 66.132, 31.487, 25.304000000000002, 27.37, 12.462, 0.0], \"type\": \"scattergeo\"}, {\"locationmode\": \"country names\", \"locations\": [\"Albania\", \"Andorra\", \"Austria\", \"Belarus\", \"Belgium\", \"Bosnia and Herzegovina\", \"Bulgaria\", \"Croatia\", \"Cyprus\", \"Czech Republic\", \"Denmark\", \"Estonia\", \"Faeroe Islands\", \"Finland\", \"France\", \"Germany\", \"Gibraltar\", \"Greece\", \"Guernsey\", \"Hungary\", \"Iceland\", \"Ireland\", \"Isle of Man\", \"Italy\", \"Jersey\", \"Kosovo\", \"Latvia\", \"Liechtenstein\", \"Lithuania\", \"Luxembourg\", \"Macedonia\", \"Malta\", \"Moldova\", \"Monaco\", \"Montenegro\", \"Netherlands\", \"Norway\", \"Poland\", \"Portugal\", \"Romania\", \"Russia\", \"San Marino\", \"Serbia\", \"Slovakia\", \"Slovenia\", \"Spain\", \"Sweden\", \"Switzerland\", \"Ukraine\", \"United Kingdom\", \"Vatican\"], \"marker\": {\"color\": \"lightseagreen\", \"line\": {\"color\": \"black\", \"width\": 0.5}, \"size\": [159.845, 258.85, 90.49, 77.785, 46.595, 1033.28, 190.69000000000003, 95.0, 22.835, 116.25999999999999, 78.55499999999999, 33.925, 0.0, 8.120000000000001, 105.48, 51.92, 148.41, 31.180000000000003, 0.0, 10.87, 161.17000000000002, 86.07000000000001, 0.0, 31.589999999999996, 0.0, 667.435, 10.605, 131.105, 34.895, 662.9649999999999, 285.595, 317.075, 0.0, 0.0, 453.775, 99.795, 20.29, 81.25, 125.04000000000002, 352.43499999999995, 188.75, 0.0, 235.87, 18.315, 57.72, 330.66, 157.435, 126.52000000000001, 136.85, 62.31, 0.0], \"sizemode\": \"area\"}, \"text\": [31.969, 51.77, 18.098, 15.557, 9.318999999999999, 206.65599999999998, 38.138000000000005, 19.0, 4.567, 23.252, 15.710999999999999, 6.785, 0.0, 1.624, 21.096, 10.384, 29.682, 6.236000000000001, 0.0, 2.174, 32.234, 17.214000000000002, 0.0, 6.318, 0.0, 133.487, 2.121, 26.221, 6.979, 132.593, 57.119, 63.415, 0.0, 0.0, 90.755, 19.959, 4.058, 16.25, 25.008000000000003, 70.487, 37.75, 0.0, 47.174, 3.6630000000000003, 11.544, 66.132, 31.487, 25.304000000000002, 27.37, 12.462, 0.0], \"type\": \"scattergeo\"}, {\"locationmode\": \"country names\", \"locations\": [\"Albania\", \"Andorra\", \"Austria\", \"Belarus\", \"Belgium\", \"Bosnia and Herzegovina\", \"Bulgaria\", \"Croatia\", \"Cyprus\", \"Czech Republic\", \"Denmark\", \"Estonia\", \"Faeroe Islands\", \"Finland\", \"France\", \"Germany\", \"Gibraltar\", \"Greece\", \"Guernsey\", \"Hungary\", \"Iceland\", \"Ireland\", \"Isle of Man\", \"Italy\", \"Jersey\", \"Kosovo\", \"Latvia\", \"Liechtenstein\", \"Lithuania\", \"Luxembourg\", \"Macedonia\", \"Malta\", \"Moldova\", \"Monaco\", \"Montenegro\", \"Netherlands\", \"Norway\", \"Poland\", \"Portugal\", \"Romania\", \"Russia\", \"San Marino\", \"Serbia\", \"Slovakia\", \"Slovenia\", \"Spain\", \"Sweden\", \"Switzerland\", \"Ukraine\", \"United Kingdom\", \"Vatican\"], \"marker\": {\"color\": \"lightseagreen\", \"line\": {\"color\": \"black\", \"width\": 0.5}, \"size\": [159.845, 258.85, 90.49, 77.785, 46.595, 1033.28, 190.69000000000003, 95.0, 22.835, 116.25999999999999, 78.55499999999999, 33.925, 0.0, 8.120000000000001, 105.48, 51.92, 148.41, 31.180000000000003, 0.0, 10.87, 161.17000000000002, 86.07000000000001, 0.0, 31.589999999999996, 0.0, 667.435, 10.605, 131.105, 34.895, 662.9649999999999, 285.595, 317.075, 0.0, 0.0, 453.775, 99.795, 20.29, 81.25, 125.04000000000002, 352.43499999999995, 188.75, 0.0, 235.87, 18.315, 57.72, 330.66, 157.435, 126.52000000000001, 136.85, 62.31, 0.0], \"sizemode\": \"area\"}, \"text\": [31.969, 51.77, 18.098, 15.557, 9.318999999999999, 206.65599999999998, 38.138000000000005, 19.0, 4.567, 23.252, 15.710999999999999, 6.785, 0.0, 1.624, 21.096, 10.384, 29.682, 6.236000000000001, 0.0, 2.174, 32.234, 17.214000000000002, 0.0, 6.318, 0.0, 133.487, 2.121, 26.221, 6.979, 132.593, 57.119, 63.415, 0.0, 0.0, 90.755, 19.959, 4.058, 16.25, 25.008000000000003, 70.487, 37.75, 0.0, 47.174, 3.6630000000000003, 11.544, 66.132, 31.487, 25.304000000000002, 27.37, 12.462, 0.0], \"type\": \"scattergeo\"}, {\"locationmode\": \"country names\", \"locations\": [\"Albania\", \"Andorra\", \"Austria\", \"Belarus\", \"Belgium\", \"Bosnia and Herzegovina\", \"Bulgaria\", \"Croatia\", \"Cyprus\", \"Czech Republic\", \"Denmark\", \"Estonia\", \"Faeroe Islands\", \"Finland\", \"France\", \"Germany\", \"Gibraltar\", \"Greece\", \"Guernsey\", \"Hungary\", \"Iceland\", \"Ireland\", \"Isle of Man\", \"Italy\", \"Jersey\", \"Kosovo\", \"Latvia\", \"Liechtenstein\", \"Lithuania\", \"Luxembourg\", \"Macedonia\", \"Malta\", \"Moldova\", \"Monaco\", \"Montenegro\", \"Netherlands\", \"Norway\", \"Poland\", \"Portugal\", \"Romania\", \"Russia\", \"San Marino\", \"Serbia\", \"Slovakia\", \"Slovenia\", \"Spain\", \"Sweden\", \"Switzerland\", \"Ukraine\", \"United Kingdom\", \"Vatican\"], \"marker\": {\"color\": \"lightseagreen\", \"line\": {\"color\": \"black\", \"width\": 0.5}, \"size\": [159.845, 258.85, 90.49, 77.785, 46.595, 1033.28, 190.69000000000003, 95.0, 22.835, 116.25999999999999, 78.55499999999999, 33.925, 0.0, 8.120000000000001, 105.48, 51.92, 148.41, 31.180000000000003, 0.0, 10.87, 161.17000000000002, 86.07000000000001, 0.0, 31.589999999999996, 0.0, 667.435, 10.605, 131.105, 34.895, 662.9649999999999, 285.595, 317.075, 0.0, 0.0, 453.775, 99.795, 20.29, 81.25, 125.04000000000002, 352.43499999999995, 188.75, 0.0, 235.87, 18.315, 57.72, 330.66, 157.435, 126.52000000000001, 136.85, 62.31, 0.0], \"sizemode\": \"area\"}, \"text\": [31.969, 51.77, 18.098, 15.557, 9.318999999999999, 206.65599999999998, 38.138000000000005, 19.0, 4.567, 23.252, 15.710999999999999, 6.785, 0.0, 1.624, 21.096, 10.384, 29.682, 6.236000000000001, 0.0, 2.174, 32.234, 17.214000000000002, 0.0, 6.318, 0.0, 133.487, 2.121, 26.221, 6.979, 132.593, 57.119, 63.415, 0.0, 0.0, 90.755, 19.959, 4.058, 16.25, 25.008000000000003, 70.487, 37.75, 0.0, 47.174, 3.6630000000000003, 11.544, 66.132, 31.487, 25.304000000000002, 27.37, 12.462, 0.0], \"type\": \"scattergeo\"}],\n",
       "                        {\"geo\": {\"coastlinecolor\": \"#000000\", \"lakecolor\": \"#0c59f2\", \"landcolor\": \"#0aa861\", \"oceancolor\": \"#abbcde\", \"projection\": {\"type\": \"mollweide\"}, \"resolution\": 110, \"scope\": \"europe\", \"showcoastlines\": true, \"showocean\": true}, \"showlegend\": false, \"template\": {\"data\": {\"bar\": [{\"error_x\": {\"color\": \"#2a3f5f\"}, \"error_y\": {\"color\": \"#2a3f5f\"}, \"marker\": {\"line\": {\"color\": \"#E5ECF6\", \"width\": 0.5}}, \"type\": \"bar\"}], \"barpolar\": [{\"marker\": {\"line\": {\"color\": \"#E5ECF6\", \"width\": 0.5}}, \"type\": \"barpolar\"}], \"carpet\": [{\"aaxis\": {\"endlinecolor\": \"#2a3f5f\", \"gridcolor\": \"white\", \"linecolor\": \"white\", \"minorgridcolor\": \"white\", \"startlinecolor\": \"#2a3f5f\"}, \"baxis\": {\"endlinecolor\": \"#2a3f5f\", \"gridcolor\": \"white\", \"linecolor\": \"white\", \"minorgridcolor\": \"white\", \"startlinecolor\": \"#2a3f5f\"}, \"type\": \"carpet\"}], \"choropleth\": [{\"colorbar\": {\"outlinewidth\": 0, \"ticks\": \"\"}, \"type\": \"choropleth\"}], \"contour\": [{\"colorbar\": {\"outlinewidth\": 0, \"ticks\": \"\"}, \"colorscale\": [[0.0, \"#0d0887\"], [0.1111111111111111, \"#46039f\"], [0.2222222222222222, \"#7201a8\"], [0.3333333333333333, \"#9c179e\"], [0.4444444444444444, \"#bd3786\"], [0.5555555555555556, \"#d8576b\"], [0.6666666666666666, \"#ed7953\"], [0.7777777777777778, \"#fb9f3a\"], [0.8888888888888888, \"#fdca26\"], [1.0, \"#f0f921\"]], \"type\": \"contour\"}], \"contourcarpet\": [{\"colorbar\": {\"outlinewidth\": 0, \"ticks\": \"\"}, \"type\": \"contourcarpet\"}], \"heatmap\": [{\"colorbar\": {\"outlinewidth\": 0, \"ticks\": \"\"}, \"colorscale\": [[0.0, \"#0d0887\"], [0.1111111111111111, \"#46039f\"], [0.2222222222222222, \"#7201a8\"], [0.3333333333333333, \"#9c179e\"], [0.4444444444444444, \"#bd3786\"], [0.5555555555555556, \"#d8576b\"], [0.6666666666666666, \"#ed7953\"], [0.7777777777777778, \"#fb9f3a\"], [0.8888888888888888, \"#fdca26\"], [1.0, \"#f0f921\"]], \"type\": \"heatmap\"}], \"heatmapgl\": [{\"colorbar\": {\"outlinewidth\": 0, \"ticks\": \"\"}, \"colorscale\": [[0.0, \"#0d0887\"], [0.1111111111111111, \"#46039f\"], [0.2222222222222222, \"#7201a8\"], [0.3333333333333333, \"#9c179e\"], [0.4444444444444444, \"#bd3786\"], [0.5555555555555556, \"#d8576b\"], [0.6666666666666666, \"#ed7953\"], [0.7777777777777778, \"#fb9f3a\"], [0.8888888888888888, \"#fdca26\"], [1.0, \"#f0f921\"]], \"type\": \"heatmapgl\"}], \"histogram\": [{\"marker\": {\"colorbar\": {\"outlinewidth\": 0, \"ticks\": \"\"}}, \"type\": \"histogram\"}], \"histogram2d\": [{\"colorbar\": {\"outlinewidth\": 0, \"ticks\": \"\"}, \"colorscale\": [[0.0, \"#0d0887\"], [0.1111111111111111, \"#46039f\"], [0.2222222222222222, \"#7201a8\"], [0.3333333333333333, \"#9c179e\"], [0.4444444444444444, \"#bd3786\"], [0.5555555555555556, \"#d8576b\"], [0.6666666666666666, \"#ed7953\"], [0.7777777777777778, \"#fb9f3a\"], [0.8888888888888888, \"#fdca26\"], [1.0, \"#f0f921\"]], \"type\": \"histogram2d\"}], \"histogram2dcontour\": [{\"colorbar\": {\"outlinewidth\": 0, \"ticks\": \"\"}, \"colorscale\": [[0.0, \"#0d0887\"], [0.1111111111111111, \"#46039f\"], [0.2222222222222222, \"#7201a8\"], [0.3333333333333333, \"#9c179e\"], [0.4444444444444444, \"#bd3786\"], [0.5555555555555556, \"#d8576b\"], [0.6666666666666666, \"#ed7953\"], [0.7777777777777778, \"#fb9f3a\"], [0.8888888888888888, \"#fdca26\"], [1.0, \"#f0f921\"]], \"type\": \"histogram2dcontour\"}], \"mesh3d\": [{\"colorbar\": {\"outlinewidth\": 0, \"ticks\": \"\"}, \"type\": \"mesh3d\"}], \"parcoords\": [{\"line\": {\"colorbar\": {\"outlinewidth\": 0, \"ticks\": \"\"}}, \"type\": \"parcoords\"}], \"pie\": [{\"automargin\": true, \"type\": \"pie\"}], \"scatter\": [{\"marker\": {\"colorbar\": {\"outlinewidth\": 0, \"ticks\": \"\"}}, \"type\": \"scatter\"}], \"scatter3d\": [{\"line\": {\"colorbar\": {\"outlinewidth\": 0, \"ticks\": \"\"}}, \"marker\": {\"colorbar\": {\"outlinewidth\": 0, \"ticks\": \"\"}}, \"type\": \"scatter3d\"}], \"scattercarpet\": [{\"marker\": {\"colorbar\": {\"outlinewidth\": 0, \"ticks\": \"\"}}, \"type\": \"scattercarpet\"}], \"scattergeo\": [{\"marker\": {\"colorbar\": {\"outlinewidth\": 0, \"ticks\": \"\"}}, \"type\": \"scattergeo\"}], \"scattergl\": [{\"marker\": {\"colorbar\": {\"outlinewidth\": 0, \"ticks\": \"\"}}, \"type\": \"scattergl\"}], \"scattermapbox\": [{\"marker\": {\"colorbar\": {\"outlinewidth\": 0, \"ticks\": \"\"}}, \"type\": \"scattermapbox\"}], \"scatterpolar\": [{\"marker\": {\"colorbar\": {\"outlinewidth\": 0, \"ticks\": \"\"}}, \"type\": \"scatterpolar\"}], \"scatterpolargl\": [{\"marker\": {\"colorbar\": {\"outlinewidth\": 0, \"ticks\": \"\"}}, \"type\": \"scatterpolargl\"}], \"scatterternary\": [{\"marker\": {\"colorbar\": {\"outlinewidth\": 0, \"ticks\": \"\"}}, \"type\": \"scatterternary\"}], \"surface\": [{\"colorbar\": {\"outlinewidth\": 0, \"ticks\": \"\"}, \"colorscale\": [[0.0, \"#0d0887\"], [0.1111111111111111, \"#46039f\"], [0.2222222222222222, \"#7201a8\"], [0.3333333333333333, \"#9c179e\"], [0.4444444444444444, \"#bd3786\"], [0.5555555555555556, \"#d8576b\"], [0.6666666666666666, \"#ed7953\"], [0.7777777777777778, \"#fb9f3a\"], [0.8888888888888888, \"#fdca26\"], [1.0, \"#f0f921\"]], \"type\": \"surface\"}], \"table\": [{\"cells\": {\"fill\": {\"color\": \"#EBF0F8\"}, \"line\": {\"color\": \"white\"}}, \"header\": {\"fill\": {\"color\": \"#C8D4E3\"}, \"line\": {\"color\": \"white\"}}, \"type\": \"table\"}]}, \"layout\": {\"annotationdefaults\": {\"arrowcolor\": \"#2a3f5f\", \"arrowhead\": 0, \"arrowwidth\": 1}, \"coloraxis\": {\"colorbar\": {\"outlinewidth\": 0, \"ticks\": \"\"}}, \"colorscale\": {\"diverging\": [[0, \"#8e0152\"], [0.1, \"#c51b7d\"], [0.2, \"#de77ae\"], [0.3, \"#f1b6da\"], [0.4, \"#fde0ef\"], [0.5, \"#f7f7f7\"], [0.6, \"#e6f5d0\"], [0.7, \"#b8e186\"], [0.8, \"#7fbc41\"], [0.9, \"#4d9221\"], [1, \"#276419\"]], \"sequential\": [[0.0, \"#0d0887\"], [0.1111111111111111, \"#46039f\"], [0.2222222222222222, \"#7201a8\"], [0.3333333333333333, \"#9c179e\"], [0.4444444444444444, \"#bd3786\"], [0.5555555555555556, \"#d8576b\"], [0.6666666666666666, \"#ed7953\"], [0.7777777777777778, \"#fb9f3a\"], [0.8888888888888888, \"#fdca26\"], [1.0, \"#f0f921\"]], \"sequentialminus\": [[0.0, \"#0d0887\"], [0.1111111111111111, \"#46039f\"], [0.2222222222222222, \"#7201a8\"], [0.3333333333333333, \"#9c179e\"], [0.4444444444444444, \"#bd3786\"], [0.5555555555555556, \"#d8576b\"], [0.6666666666666666, \"#ed7953\"], [0.7777777777777778, \"#fb9f3a\"], [0.8888888888888888, \"#fdca26\"], [1.0, \"#f0f921\"]]}, \"colorway\": [\"#636efa\", \"#EF553B\", \"#00cc96\", \"#ab63fa\", \"#FFA15A\", \"#19d3f3\", \"#FF6692\", \"#B6E880\", \"#FF97FF\", \"#FECB52\"], \"font\": {\"color\": \"#2a3f5f\"}, \"geo\": {\"bgcolor\": \"white\", \"lakecolor\": \"white\", \"landcolor\": \"#E5ECF6\", \"showlakes\": true, \"showland\": true, \"subunitcolor\": \"white\"}, \"hoverlabel\": {\"align\": \"left\"}, \"hovermode\": \"closest\", \"mapbox\": {\"style\": \"light\"}, \"paper_bgcolor\": \"white\", \"plot_bgcolor\": \"#E5ECF6\", \"polar\": {\"angularaxis\": {\"gridcolor\": \"white\", \"linecolor\": \"white\", \"ticks\": \"\"}, \"bgcolor\": \"#E5ECF6\", \"radialaxis\": {\"gridcolor\": \"white\", \"linecolor\": \"white\", \"ticks\": \"\"}}, \"scene\": {\"xaxis\": {\"backgroundcolor\": \"#E5ECF6\", \"gridcolor\": \"white\", \"gridwidth\": 2, \"linecolor\": \"white\", \"showbackground\": true, \"ticks\": \"\", \"zerolinecolor\": \"white\"}, \"yaxis\": {\"backgroundcolor\": \"#E5ECF6\", \"gridcolor\": \"white\", \"gridwidth\": 2, \"linecolor\": \"white\", \"showbackground\": true, \"ticks\": \"\", \"zerolinecolor\": \"white\"}, \"zaxis\": {\"backgroundcolor\": \"#E5ECF6\", \"gridcolor\": \"white\", \"gridwidth\": 2, \"linecolor\": \"white\", \"showbackground\": true, \"ticks\": \"\", \"zerolinecolor\": \"white\"}}, \"shapedefaults\": {\"line\": {\"color\": \"#2a3f5f\"}}, \"ternary\": {\"aaxis\": {\"gridcolor\": \"white\", \"linecolor\": \"white\", \"ticks\": \"\"}, \"baxis\": {\"gridcolor\": \"white\", \"linecolor\": \"white\", \"ticks\": \"\"}, \"bgcolor\": \"#E5ECF6\", \"caxis\": {\"gridcolor\": \"white\", \"linecolor\": \"white\", \"ticks\": \"\"}}, \"title\": {\"x\": 0.05}, \"xaxis\": {\"automargin\": true, \"gridcolor\": \"white\", \"linecolor\": \"white\", \"ticks\": \"\", \"title\": {\"standoff\": 15}, \"zerolinecolor\": \"white\", \"zerolinewidth\": 2}, \"yaxis\": {\"automargin\": true, \"gridcolor\": \"white\", \"linecolor\": \"white\", \"ticks\": \"\", \"title\": {\"standoff\": 15}, \"zerolinecolor\": \"white\", \"zerolinewidth\": 2}}}, \"title\": {\"text\": \"New casesEurope per million habitants, 2020-07-31\"}},\n",
       "                        {\"responsive\": true}\n",
       "                    ).then(function(){\n",
       "                            \n",
       "var gd = document.getElementById('0442695b-e57b-4cef-9134-a68f5676ae88');\n",
       "var x = new MutationObserver(function (mutations, observer) {{\n",
       "        var display = window.getComputedStyle(gd).display;\n",
       "        if (!display || display === 'none') {{\n",
       "            console.log([gd, 'removed!']);\n",
       "            Plotly.purge(gd);\n",
       "            observer.disconnect();\n",
       "        }}\n",
       "}});\n",
       "\n",
       "// Listen for the removal of the full notebook cells\n",
       "var notebookContainer = gd.closest('#notebook-container');\n",
       "if (notebookContainer) {{\n",
       "    x.observe(notebookContainer, {childList: true});\n",
       "}}\n",
       "\n",
       "// Listen for the clearing of the current output cell\n",
       "var outputEl = gd.closest('.output');\n",
       "if (outputEl) {{\n",
       "    x.observe(outputEl, {childList: true});\n",
       "}}\n",
       "\n",
       "                        })\n",
       "                };\n",
       "                });\n",
       "            </script>\n",
       "        </div>"
      ]
     },
     "metadata": {},
     "output_type": "display_data"
    }
   ],
   "source": [
    "# FIGURE, MAP 1\n",
    "fig = go.Figure()\n",
    "\n",
    "#IMPORTING DATA TO FIGURE\n",
    "for i in cov_df_con1: # each iteration = country\n",
    "    fig.add_trace(go.Scattergeo(\n",
    "            locations = cov_df_con1['location'],\n",
    "            locationmode = 'country names',\n",
    "            text = cov_df_con1['new_cases_per_million'],\n",
    "            marker = dict(\n",
    "                size = cov_df_con1['new_cases_per_million']*5,\n",
    "                color = 'lightseagreen',\n",
    "                line_color='black',\n",
    "                line_width=0.5,\n",
    "                sizemode = 'area'\n",
    "        )))\n",
    " \n",
    "\n",
    "#STYLING\n",
    "fig.update_layout(\n",
    "    title_text = 'New cases' + continent_sel1 +' per million habitants.'',\n",
    "    showlegend = False,\n",
    "    geo = dict(\n",
    "        scope=continent_sel1.lower(),\n",
    "        resolution=110,\n",
    "        projection_type='mollweide',\n",
    "        showcoastlines=True,\n",
    "        showocean=True,\n",
    "#colors in hex code\n",
    "        oceancolor='#abbcde',\n",
    "        lakecolor='#0c59f2',\n",
    "        coastlinecolor='#000000',\n",
    "        landcolor='#0aa861',\n",
    "    )\n",
    ")\n",
    " \n",
    "# LET ME SEE\n",
    "fig.show()"
   ]
  },
  {
   "cell_type": "code",
   "execution_count": 45,
   "metadata": {},
   "outputs": [
    {
     "data": {
      "application/vnd.plotly.v1+json": {
       "config": {
        "plotlyServerURL": "https://plot.ly"
       },
       "data": [
        {
         "locationmode": "country names",
         "locations": [
          "Anguilla",
          "Antigua and Barbuda",
          "Aruba",
          "Bahamas",
          "Barbados",
          "Belize",
          "Bermuda",
          "Bonaire Sint Eustatius and Saba",
          "British Virgin Islands",
          "Canada",
          "Cayman Islands",
          "Costa Rica",
          "Cuba",
          "Curacao",
          "Dominica",
          "Dominican Republic",
          "El Salvador",
          "Greenland",
          "Grenada",
          "Guatemala",
          "Haiti",
          "Honduras",
          "Jamaica",
          "Mexico",
          "Montserrat",
          "Nicaragua",
          "Panama",
          "Puerto Rico",
          "Saint Kitts and Nevis",
          "Saint Lucia",
          "Saint Vincent and the Grenadines",
          "Sint Maarten (Dutch part)",
          "Trinidad and Tobago",
          "Turks and Caicos Islands",
          "United States",
          "United States Virgin Islands"
         ],
         "marker": {
          "color": "lightseagreen",
          "line": {
           "color": "black",
           "width": 0.5
          },
          "size": [
           0,
           0,
           46.83,
           305.15,
           0,
           0,
           0,
           0,
           0,
           43.585,
           0,
           480.94499999999994,
           3.975,
           0,
           0,
           798.77,
           299.865,
           0,
           0,
           340.76500000000004,
           14.909999999999998,
           243.31999999999996,
           13.51,
           299.77,
           0,
           0,
           1068.425,
           893.0950000000001,
           0,
           27.230000000000004,
           0,
           816.195,
           28.580000000000002,
           645.695,
           1027.665,
           0
          ],
          "sizemode": "area"
         },
         "text": [
          31.969,
          51.77,
          18.098,
          15.557,
          9.318999999999999,
          206.65599999999998,
          38.138000000000005,
          19,
          4.567,
          23.252,
          15.710999999999999,
          6.785,
          0,
          1.624,
          21.096,
          10.384,
          29.682,
          6.236000000000001,
          0,
          2.174,
          32.234,
          17.214000000000002,
          0,
          6.318,
          0,
          133.487,
          2.121,
          26.221,
          6.979,
          132.593,
          57.119,
          63.415,
          0,
          0,
          90.755,
          19.959,
          4.058,
          16.25,
          25.008000000000003,
          70.487,
          37.75,
          0,
          47.174,
          3.6630000000000003,
          11.544,
          66.132,
          31.487,
          25.304000000000002,
          27.37,
          12.462,
          0
         ],
         "type": "scattergeo"
        },
        {
         "locationmode": "country names",
         "locations": [
          "Anguilla",
          "Antigua and Barbuda",
          "Aruba",
          "Bahamas",
          "Barbados",
          "Belize",
          "Bermuda",
          "Bonaire Sint Eustatius and Saba",
          "British Virgin Islands",
          "Canada",
          "Cayman Islands",
          "Costa Rica",
          "Cuba",
          "Curacao",
          "Dominica",
          "Dominican Republic",
          "El Salvador",
          "Greenland",
          "Grenada",
          "Guatemala",
          "Haiti",
          "Honduras",
          "Jamaica",
          "Mexico",
          "Montserrat",
          "Nicaragua",
          "Panama",
          "Puerto Rico",
          "Saint Kitts and Nevis",
          "Saint Lucia",
          "Saint Vincent and the Grenadines",
          "Sint Maarten (Dutch part)",
          "Trinidad and Tobago",
          "Turks and Caicos Islands",
          "United States",
          "United States Virgin Islands"
         ],
         "marker": {
          "color": "lightseagreen",
          "line": {
           "color": "black",
           "width": 0.5
          },
          "size": [
           0,
           0,
           46.83,
           305.15,
           0,
           0,
           0,
           0,
           0,
           43.585,
           0,
           480.94499999999994,
           3.975,
           0,
           0,
           798.77,
           299.865,
           0,
           0,
           340.76500000000004,
           14.909999999999998,
           243.31999999999996,
           13.51,
           299.77,
           0,
           0,
           1068.425,
           893.0950000000001,
           0,
           27.230000000000004,
           0,
           816.195,
           28.580000000000002,
           645.695,
           1027.665,
           0
          ],
          "sizemode": "area"
         },
         "text": [
          31.969,
          51.77,
          18.098,
          15.557,
          9.318999999999999,
          206.65599999999998,
          38.138000000000005,
          19,
          4.567,
          23.252,
          15.710999999999999,
          6.785,
          0,
          1.624,
          21.096,
          10.384,
          29.682,
          6.236000000000001,
          0,
          2.174,
          32.234,
          17.214000000000002,
          0,
          6.318,
          0,
          133.487,
          2.121,
          26.221,
          6.979,
          132.593,
          57.119,
          63.415,
          0,
          0,
          90.755,
          19.959,
          4.058,
          16.25,
          25.008000000000003,
          70.487,
          37.75,
          0,
          47.174,
          3.6630000000000003,
          11.544,
          66.132,
          31.487,
          25.304000000000002,
          27.37,
          12.462,
          0
         ],
         "type": "scattergeo"
        },
        {
         "locationmode": "country names",
         "locations": [
          "Anguilla",
          "Antigua and Barbuda",
          "Aruba",
          "Bahamas",
          "Barbados",
          "Belize",
          "Bermuda",
          "Bonaire Sint Eustatius and Saba",
          "British Virgin Islands",
          "Canada",
          "Cayman Islands",
          "Costa Rica",
          "Cuba",
          "Curacao",
          "Dominica",
          "Dominican Republic",
          "El Salvador",
          "Greenland",
          "Grenada",
          "Guatemala",
          "Haiti",
          "Honduras",
          "Jamaica",
          "Mexico",
          "Montserrat",
          "Nicaragua",
          "Panama",
          "Puerto Rico",
          "Saint Kitts and Nevis",
          "Saint Lucia",
          "Saint Vincent and the Grenadines",
          "Sint Maarten (Dutch part)",
          "Trinidad and Tobago",
          "Turks and Caicos Islands",
          "United States",
          "United States Virgin Islands"
         ],
         "marker": {
          "color": "lightseagreen",
          "line": {
           "color": "black",
           "width": 0.5
          },
          "size": [
           0,
           0,
           46.83,
           305.15,
           0,
           0,
           0,
           0,
           0,
           43.585,
           0,
           480.94499999999994,
           3.975,
           0,
           0,
           798.77,
           299.865,
           0,
           0,
           340.76500000000004,
           14.909999999999998,
           243.31999999999996,
           13.51,
           299.77,
           0,
           0,
           1068.425,
           893.0950000000001,
           0,
           27.230000000000004,
           0,
           816.195,
           28.580000000000002,
           645.695,
           1027.665,
           0
          ],
          "sizemode": "area"
         },
         "text": [
          31.969,
          51.77,
          18.098,
          15.557,
          9.318999999999999,
          206.65599999999998,
          38.138000000000005,
          19,
          4.567,
          23.252,
          15.710999999999999,
          6.785,
          0,
          1.624,
          21.096,
          10.384,
          29.682,
          6.236000000000001,
          0,
          2.174,
          32.234,
          17.214000000000002,
          0,
          6.318,
          0,
          133.487,
          2.121,
          26.221,
          6.979,
          132.593,
          57.119,
          63.415,
          0,
          0,
          90.755,
          19.959,
          4.058,
          16.25,
          25.008000000000003,
          70.487,
          37.75,
          0,
          47.174,
          3.6630000000000003,
          11.544,
          66.132,
          31.487,
          25.304000000000002,
          27.37,
          12.462,
          0
         ],
         "type": "scattergeo"
        },
        {
         "locationmode": "country names",
         "locations": [
          "Anguilla",
          "Antigua and Barbuda",
          "Aruba",
          "Bahamas",
          "Barbados",
          "Belize",
          "Bermuda",
          "Bonaire Sint Eustatius and Saba",
          "British Virgin Islands",
          "Canada",
          "Cayman Islands",
          "Costa Rica",
          "Cuba",
          "Curacao",
          "Dominica",
          "Dominican Republic",
          "El Salvador",
          "Greenland",
          "Grenada",
          "Guatemala",
          "Haiti",
          "Honduras",
          "Jamaica",
          "Mexico",
          "Montserrat",
          "Nicaragua",
          "Panama",
          "Puerto Rico",
          "Saint Kitts and Nevis",
          "Saint Lucia",
          "Saint Vincent and the Grenadines",
          "Sint Maarten (Dutch part)",
          "Trinidad and Tobago",
          "Turks and Caicos Islands",
          "United States",
          "United States Virgin Islands"
         ],
         "marker": {
          "color": "lightseagreen",
          "line": {
           "color": "black",
           "width": 0.5
          },
          "size": [
           0,
           0,
           46.83,
           305.15,
           0,
           0,
           0,
           0,
           0,
           43.585,
           0,
           480.94499999999994,
           3.975,
           0,
           0,
           798.77,
           299.865,
           0,
           0,
           340.76500000000004,
           14.909999999999998,
           243.31999999999996,
           13.51,
           299.77,
           0,
           0,
           1068.425,
           893.0950000000001,
           0,
           27.230000000000004,
           0,
           816.195,
           28.580000000000002,
           645.695,
           1027.665,
           0
          ],
          "sizemode": "area"
         },
         "text": [
          31.969,
          51.77,
          18.098,
          15.557,
          9.318999999999999,
          206.65599999999998,
          38.138000000000005,
          19,
          4.567,
          23.252,
          15.710999999999999,
          6.785,
          0,
          1.624,
          21.096,
          10.384,
          29.682,
          6.236000000000001,
          0,
          2.174,
          32.234,
          17.214000000000002,
          0,
          6.318,
          0,
          133.487,
          2.121,
          26.221,
          6.979,
          132.593,
          57.119,
          63.415,
          0,
          0,
          90.755,
          19.959,
          4.058,
          16.25,
          25.008000000000003,
          70.487,
          37.75,
          0,
          47.174,
          3.6630000000000003,
          11.544,
          66.132,
          31.487,
          25.304000000000002,
          27.37,
          12.462,
          0
         ],
         "type": "scattergeo"
        },
        {
         "locationmode": "country names",
         "locations": [
          "Anguilla",
          "Antigua and Barbuda",
          "Aruba",
          "Bahamas",
          "Barbados",
          "Belize",
          "Bermuda",
          "Bonaire Sint Eustatius and Saba",
          "British Virgin Islands",
          "Canada",
          "Cayman Islands",
          "Costa Rica",
          "Cuba",
          "Curacao",
          "Dominica",
          "Dominican Republic",
          "El Salvador",
          "Greenland",
          "Grenada",
          "Guatemala",
          "Haiti",
          "Honduras",
          "Jamaica",
          "Mexico",
          "Montserrat",
          "Nicaragua",
          "Panama",
          "Puerto Rico",
          "Saint Kitts and Nevis",
          "Saint Lucia",
          "Saint Vincent and the Grenadines",
          "Sint Maarten (Dutch part)",
          "Trinidad and Tobago",
          "Turks and Caicos Islands",
          "United States",
          "United States Virgin Islands"
         ],
         "marker": {
          "color": "lightseagreen",
          "line": {
           "color": "black",
           "width": 0.5
          },
          "size": [
           0,
           0,
           46.83,
           305.15,
           0,
           0,
           0,
           0,
           0,
           43.585,
           0,
           480.94499999999994,
           3.975,
           0,
           0,
           798.77,
           299.865,
           0,
           0,
           340.76500000000004,
           14.909999999999998,
           243.31999999999996,
           13.51,
           299.77,
           0,
           0,
           1068.425,
           893.0950000000001,
           0,
           27.230000000000004,
           0,
           816.195,
           28.580000000000002,
           645.695,
           1027.665,
           0
          ],
          "sizemode": "area"
         },
         "text": [
          31.969,
          51.77,
          18.098,
          15.557,
          9.318999999999999,
          206.65599999999998,
          38.138000000000005,
          19,
          4.567,
          23.252,
          15.710999999999999,
          6.785,
          0,
          1.624,
          21.096,
          10.384,
          29.682,
          6.236000000000001,
          0,
          2.174,
          32.234,
          17.214000000000002,
          0,
          6.318,
          0,
          133.487,
          2.121,
          26.221,
          6.979,
          132.593,
          57.119,
          63.415,
          0,
          0,
          90.755,
          19.959,
          4.058,
          16.25,
          25.008000000000003,
          70.487,
          37.75,
          0,
          47.174,
          3.6630000000000003,
          11.544,
          66.132,
          31.487,
          25.304000000000002,
          27.37,
          12.462,
          0
         ],
         "type": "scattergeo"
        }
       ],
       "layout": {
        "geo": {
         "coastlinecolor": "#000000",
         "lakecolor": "#0c59f2",
         "landcolor": "#107548",
         "oceancolor": "#0e758a",
         "projection": {
          "type": "mollweide"
         },
         "resolution": 110,
         "scope": "north america",
         "showcoastlines": true,
         "showocean": true
        },
        "showlegend": false,
        "template": {
         "data": {
          "bar": [
           {
            "error_x": {
             "color": "#2a3f5f"
            },
            "error_y": {
             "color": "#2a3f5f"
            },
            "marker": {
             "line": {
              "color": "#E5ECF6",
              "width": 0.5
             }
            },
            "type": "bar"
           }
          ],
          "barpolar": [
           {
            "marker": {
             "line": {
              "color": "#E5ECF6",
              "width": 0.5
             }
            },
            "type": "barpolar"
           }
          ],
          "carpet": [
           {
            "aaxis": {
             "endlinecolor": "#2a3f5f",
             "gridcolor": "white",
             "linecolor": "white",
             "minorgridcolor": "white",
             "startlinecolor": "#2a3f5f"
            },
            "baxis": {
             "endlinecolor": "#2a3f5f",
             "gridcolor": "white",
             "linecolor": "white",
             "minorgridcolor": "white",
             "startlinecolor": "#2a3f5f"
            },
            "type": "carpet"
           }
          ],
          "choropleth": [
           {
            "colorbar": {
             "outlinewidth": 0,
             "ticks": ""
            },
            "type": "choropleth"
           }
          ],
          "contour": [
           {
            "colorbar": {
             "outlinewidth": 0,
             "ticks": ""
            },
            "colorscale": [
             [
              0,
              "#0d0887"
             ],
             [
              0.1111111111111111,
              "#46039f"
             ],
             [
              0.2222222222222222,
              "#7201a8"
             ],
             [
              0.3333333333333333,
              "#9c179e"
             ],
             [
              0.4444444444444444,
              "#bd3786"
             ],
             [
              0.5555555555555556,
              "#d8576b"
             ],
             [
              0.6666666666666666,
              "#ed7953"
             ],
             [
              0.7777777777777778,
              "#fb9f3a"
             ],
             [
              0.8888888888888888,
              "#fdca26"
             ],
             [
              1,
              "#f0f921"
             ]
            ],
            "type": "contour"
           }
          ],
          "contourcarpet": [
           {
            "colorbar": {
             "outlinewidth": 0,
             "ticks": ""
            },
            "type": "contourcarpet"
           }
          ],
          "heatmap": [
           {
            "colorbar": {
             "outlinewidth": 0,
             "ticks": ""
            },
            "colorscale": [
             [
              0,
              "#0d0887"
             ],
             [
              0.1111111111111111,
              "#46039f"
             ],
             [
              0.2222222222222222,
              "#7201a8"
             ],
             [
              0.3333333333333333,
              "#9c179e"
             ],
             [
              0.4444444444444444,
              "#bd3786"
             ],
             [
              0.5555555555555556,
              "#d8576b"
             ],
             [
              0.6666666666666666,
              "#ed7953"
             ],
             [
              0.7777777777777778,
              "#fb9f3a"
             ],
             [
              0.8888888888888888,
              "#fdca26"
             ],
             [
              1,
              "#f0f921"
             ]
            ],
            "type": "heatmap"
           }
          ],
          "heatmapgl": [
           {
            "colorbar": {
             "outlinewidth": 0,
             "ticks": ""
            },
            "colorscale": [
             [
              0,
              "#0d0887"
             ],
             [
              0.1111111111111111,
              "#46039f"
             ],
             [
              0.2222222222222222,
              "#7201a8"
             ],
             [
              0.3333333333333333,
              "#9c179e"
             ],
             [
              0.4444444444444444,
              "#bd3786"
             ],
             [
              0.5555555555555556,
              "#d8576b"
             ],
             [
              0.6666666666666666,
              "#ed7953"
             ],
             [
              0.7777777777777778,
              "#fb9f3a"
             ],
             [
              0.8888888888888888,
              "#fdca26"
             ],
             [
              1,
              "#f0f921"
             ]
            ],
            "type": "heatmapgl"
           }
          ],
          "histogram": [
           {
            "marker": {
             "colorbar": {
              "outlinewidth": 0,
              "ticks": ""
             }
            },
            "type": "histogram"
           }
          ],
          "histogram2d": [
           {
            "colorbar": {
             "outlinewidth": 0,
             "ticks": ""
            },
            "colorscale": [
             [
              0,
              "#0d0887"
             ],
             [
              0.1111111111111111,
              "#46039f"
             ],
             [
              0.2222222222222222,
              "#7201a8"
             ],
             [
              0.3333333333333333,
              "#9c179e"
             ],
             [
              0.4444444444444444,
              "#bd3786"
             ],
             [
              0.5555555555555556,
              "#d8576b"
             ],
             [
              0.6666666666666666,
              "#ed7953"
             ],
             [
              0.7777777777777778,
              "#fb9f3a"
             ],
             [
              0.8888888888888888,
              "#fdca26"
             ],
             [
              1,
              "#f0f921"
             ]
            ],
            "type": "histogram2d"
           }
          ],
          "histogram2dcontour": [
           {
            "colorbar": {
             "outlinewidth": 0,
             "ticks": ""
            },
            "colorscale": [
             [
              0,
              "#0d0887"
             ],
             [
              0.1111111111111111,
              "#46039f"
             ],
             [
              0.2222222222222222,
              "#7201a8"
             ],
             [
              0.3333333333333333,
              "#9c179e"
             ],
             [
              0.4444444444444444,
              "#bd3786"
             ],
             [
              0.5555555555555556,
              "#d8576b"
             ],
             [
              0.6666666666666666,
              "#ed7953"
             ],
             [
              0.7777777777777778,
              "#fb9f3a"
             ],
             [
              0.8888888888888888,
              "#fdca26"
             ],
             [
              1,
              "#f0f921"
             ]
            ],
            "type": "histogram2dcontour"
           }
          ],
          "mesh3d": [
           {
            "colorbar": {
             "outlinewidth": 0,
             "ticks": ""
            },
            "type": "mesh3d"
           }
          ],
          "parcoords": [
           {
            "line": {
             "colorbar": {
              "outlinewidth": 0,
              "ticks": ""
             }
            },
            "type": "parcoords"
           }
          ],
          "pie": [
           {
            "automargin": true,
            "type": "pie"
           }
          ],
          "scatter": [
           {
            "marker": {
             "colorbar": {
              "outlinewidth": 0,
              "ticks": ""
             }
            },
            "type": "scatter"
           }
          ],
          "scatter3d": [
           {
            "line": {
             "colorbar": {
              "outlinewidth": 0,
              "ticks": ""
             }
            },
            "marker": {
             "colorbar": {
              "outlinewidth": 0,
              "ticks": ""
             }
            },
            "type": "scatter3d"
           }
          ],
          "scattercarpet": [
           {
            "marker": {
             "colorbar": {
              "outlinewidth": 0,
              "ticks": ""
             }
            },
            "type": "scattercarpet"
           }
          ],
          "scattergeo": [
           {
            "marker": {
             "colorbar": {
              "outlinewidth": 0,
              "ticks": ""
             }
            },
            "type": "scattergeo"
           }
          ],
          "scattergl": [
           {
            "marker": {
             "colorbar": {
              "outlinewidth": 0,
              "ticks": ""
             }
            },
            "type": "scattergl"
           }
          ],
          "scattermapbox": [
           {
            "marker": {
             "colorbar": {
              "outlinewidth": 0,
              "ticks": ""
             }
            },
            "type": "scattermapbox"
           }
          ],
          "scatterpolar": [
           {
            "marker": {
             "colorbar": {
              "outlinewidth": 0,
              "ticks": ""
             }
            },
            "type": "scatterpolar"
           }
          ],
          "scatterpolargl": [
           {
            "marker": {
             "colorbar": {
              "outlinewidth": 0,
              "ticks": ""
             }
            },
            "type": "scatterpolargl"
           }
          ],
          "scatterternary": [
           {
            "marker": {
             "colorbar": {
              "outlinewidth": 0,
              "ticks": ""
             }
            },
            "type": "scatterternary"
           }
          ],
          "surface": [
           {
            "colorbar": {
             "outlinewidth": 0,
             "ticks": ""
            },
            "colorscale": [
             [
              0,
              "#0d0887"
             ],
             [
              0.1111111111111111,
              "#46039f"
             ],
             [
              0.2222222222222222,
              "#7201a8"
             ],
             [
              0.3333333333333333,
              "#9c179e"
             ],
             [
              0.4444444444444444,
              "#bd3786"
             ],
             [
              0.5555555555555556,
              "#d8576b"
             ],
             [
              0.6666666666666666,
              "#ed7953"
             ],
             [
              0.7777777777777778,
              "#fb9f3a"
             ],
             [
              0.8888888888888888,
              "#fdca26"
             ],
             [
              1,
              "#f0f921"
             ]
            ],
            "type": "surface"
           }
          ],
          "table": [
           {
            "cells": {
             "fill": {
              "color": "#EBF0F8"
             },
             "line": {
              "color": "white"
             }
            },
            "header": {
             "fill": {
              "color": "#C8D4E3"
             },
             "line": {
              "color": "white"
             }
            },
            "type": "table"
           }
          ]
         },
         "layout": {
          "annotationdefaults": {
           "arrowcolor": "#2a3f5f",
           "arrowhead": 0,
           "arrowwidth": 1
          },
          "coloraxis": {
           "colorbar": {
            "outlinewidth": 0,
            "ticks": ""
           }
          },
          "colorscale": {
           "diverging": [
            [
             0,
             "#8e0152"
            ],
            [
             0.1,
             "#c51b7d"
            ],
            [
             0.2,
             "#de77ae"
            ],
            [
             0.3,
             "#f1b6da"
            ],
            [
             0.4,
             "#fde0ef"
            ],
            [
             0.5,
             "#f7f7f7"
            ],
            [
             0.6,
             "#e6f5d0"
            ],
            [
             0.7,
             "#b8e186"
            ],
            [
             0.8,
             "#7fbc41"
            ],
            [
             0.9,
             "#4d9221"
            ],
            [
             1,
             "#276419"
            ]
           ],
           "sequential": [
            [
             0,
             "#0d0887"
            ],
            [
             0.1111111111111111,
             "#46039f"
            ],
            [
             0.2222222222222222,
             "#7201a8"
            ],
            [
             0.3333333333333333,
             "#9c179e"
            ],
            [
             0.4444444444444444,
             "#bd3786"
            ],
            [
             0.5555555555555556,
             "#d8576b"
            ],
            [
             0.6666666666666666,
             "#ed7953"
            ],
            [
             0.7777777777777778,
             "#fb9f3a"
            ],
            [
             0.8888888888888888,
             "#fdca26"
            ],
            [
             1,
             "#f0f921"
            ]
           ],
           "sequentialminus": [
            [
             0,
             "#0d0887"
            ],
            [
             0.1111111111111111,
             "#46039f"
            ],
            [
             0.2222222222222222,
             "#7201a8"
            ],
            [
             0.3333333333333333,
             "#9c179e"
            ],
            [
             0.4444444444444444,
             "#bd3786"
            ],
            [
             0.5555555555555556,
             "#d8576b"
            ],
            [
             0.6666666666666666,
             "#ed7953"
            ],
            [
             0.7777777777777778,
             "#fb9f3a"
            ],
            [
             0.8888888888888888,
             "#fdca26"
            ],
            [
             1,
             "#f0f921"
            ]
           ]
          },
          "colorway": [
           "#636efa",
           "#EF553B",
           "#00cc96",
           "#ab63fa",
           "#FFA15A",
           "#19d3f3",
           "#FF6692",
           "#B6E880",
           "#FF97FF",
           "#FECB52"
          ],
          "font": {
           "color": "#2a3f5f"
          },
          "geo": {
           "bgcolor": "white",
           "lakecolor": "white",
           "landcolor": "#E5ECF6",
           "showlakes": true,
           "showland": true,
           "subunitcolor": "white"
          },
          "hoverlabel": {
           "align": "left"
          },
          "hovermode": "closest",
          "mapbox": {
           "style": "light"
          },
          "paper_bgcolor": "white",
          "plot_bgcolor": "#E5ECF6",
          "polar": {
           "angularaxis": {
            "gridcolor": "white",
            "linecolor": "white",
            "ticks": ""
           },
           "bgcolor": "#E5ECF6",
           "radialaxis": {
            "gridcolor": "white",
            "linecolor": "white",
            "ticks": ""
           }
          },
          "scene": {
           "xaxis": {
            "backgroundcolor": "#E5ECF6",
            "gridcolor": "white",
            "gridwidth": 2,
            "linecolor": "white",
            "showbackground": true,
            "ticks": "",
            "zerolinecolor": "white"
           },
           "yaxis": {
            "backgroundcolor": "#E5ECF6",
            "gridcolor": "white",
            "gridwidth": 2,
            "linecolor": "white",
            "showbackground": true,
            "ticks": "",
            "zerolinecolor": "white"
           },
           "zaxis": {
            "backgroundcolor": "#E5ECF6",
            "gridcolor": "white",
            "gridwidth": 2,
            "linecolor": "white",
            "showbackground": true,
            "ticks": "",
            "zerolinecolor": "white"
           }
          },
          "shapedefaults": {
           "line": {
            "color": "#2a3f5f"
           }
          },
          "ternary": {
           "aaxis": {
            "gridcolor": "white",
            "linecolor": "white",
            "ticks": ""
           },
           "baxis": {
            "gridcolor": "white",
            "linecolor": "white",
            "ticks": ""
           },
           "bgcolor": "#E5ECF6",
           "caxis": {
            "gridcolor": "white",
            "linecolor": "white",
            "ticks": ""
           }
          },
          "title": {
           "x": 0.05
          },
          "xaxis": {
           "automargin": true,
           "gridcolor": "white",
           "linecolor": "white",
           "ticks": "",
           "title": {
            "standoff": 15
           },
           "zerolinecolor": "white",
           "zerolinewidth": 2
          },
          "yaxis": {
           "automargin": true,
           "gridcolor": "white",
           "linecolor": "white",
           "ticks": "",
           "title": {
            "standoff": 15
           },
           "zerolinecolor": "white",
           "zerolinewidth": 2
          }
         }
        },
        "title": {
         "text": "New cases North America per million habitants, 2020-07-31"
        }
       }
      },
      "text/html": [
       "<div>\n",
       "        \n",
       "        \n",
       "            <div id=\"7250e2e9-0528-4a12-a7a7-82d23de3a0f2\" class=\"plotly-graph-div\" style=\"height:525px; width:100%;\"></div>\n",
       "            <script type=\"text/javascript\">\n",
       "                require([\"plotly\"], function(Plotly) {\n",
       "                    window.PLOTLYENV=window.PLOTLYENV || {};\n",
       "                    \n",
       "                if (document.getElementById(\"7250e2e9-0528-4a12-a7a7-82d23de3a0f2\")) {\n",
       "                    Plotly.newPlot(\n",
       "                        '7250e2e9-0528-4a12-a7a7-82d23de3a0f2',\n",
       "                        [{\"locationmode\": \"country names\", \"locations\": [\"Anguilla\", \"Antigua and Barbuda\", \"Aruba\", \"Bahamas\", \"Barbados\", \"Belize\", \"Bermuda\", \"Bonaire Sint Eustatius and Saba\", \"British Virgin Islands\", \"Canada\", \"Cayman Islands\", \"Costa Rica\", \"Cuba\", \"Curacao\", \"Dominica\", \"Dominican Republic\", \"El Salvador\", \"Greenland\", \"Grenada\", \"Guatemala\", \"Haiti\", \"Honduras\", \"Jamaica\", \"Mexico\", \"Montserrat\", \"Nicaragua\", \"Panama\", \"Puerto Rico\", \"Saint Kitts and Nevis\", \"Saint Lucia\", \"Saint Vincent and the Grenadines\", \"Sint Maarten (Dutch part)\", \"Trinidad and Tobago\", \"Turks and Caicos Islands\", \"United States\", \"United States Virgin Islands\"], \"marker\": {\"color\": \"lightseagreen\", \"line\": {\"color\": \"black\", \"width\": 0.5}, \"size\": [0.0, 0.0, 46.83, 305.15, 0.0, 0.0, 0.0, 0.0, 0.0, 43.585, 0.0, 480.94499999999994, 3.975, 0.0, 0.0, 798.77, 299.865, 0.0, 0.0, 340.76500000000004, 14.909999999999998, 243.31999999999996, 13.51, 299.77, 0.0, 0.0, 1068.425, 893.0950000000001, 0.0, 27.230000000000004, 0.0, 816.195, 28.580000000000002, 645.695, 1027.665, 0.0], \"sizemode\": \"area\"}, \"text\": [31.969, 51.77, 18.098, 15.557, 9.318999999999999, 206.65599999999998, 38.138000000000005, 19.0, 4.567, 23.252, 15.710999999999999, 6.785, 0.0, 1.624, 21.096, 10.384, 29.682, 6.236000000000001, 0.0, 2.174, 32.234, 17.214000000000002, 0.0, 6.318, 0.0, 133.487, 2.121, 26.221, 6.979, 132.593, 57.119, 63.415, 0.0, 0.0, 90.755, 19.959, 4.058, 16.25, 25.008000000000003, 70.487, 37.75, 0.0, 47.174, 3.6630000000000003, 11.544, 66.132, 31.487, 25.304000000000002, 27.37, 12.462, 0.0], \"type\": \"scattergeo\"}, {\"locationmode\": \"country names\", \"locations\": [\"Anguilla\", \"Antigua and Barbuda\", \"Aruba\", \"Bahamas\", \"Barbados\", \"Belize\", \"Bermuda\", \"Bonaire Sint Eustatius and Saba\", \"British Virgin Islands\", \"Canada\", \"Cayman Islands\", \"Costa Rica\", \"Cuba\", \"Curacao\", \"Dominica\", \"Dominican Republic\", \"El Salvador\", \"Greenland\", \"Grenada\", \"Guatemala\", \"Haiti\", \"Honduras\", \"Jamaica\", \"Mexico\", \"Montserrat\", \"Nicaragua\", \"Panama\", \"Puerto Rico\", \"Saint Kitts and Nevis\", \"Saint Lucia\", \"Saint Vincent and the Grenadines\", \"Sint Maarten (Dutch part)\", \"Trinidad and Tobago\", \"Turks and Caicos Islands\", \"United States\", \"United States Virgin Islands\"], \"marker\": {\"color\": \"lightseagreen\", \"line\": {\"color\": \"black\", \"width\": 0.5}, \"size\": [0.0, 0.0, 46.83, 305.15, 0.0, 0.0, 0.0, 0.0, 0.0, 43.585, 0.0, 480.94499999999994, 3.975, 0.0, 0.0, 798.77, 299.865, 0.0, 0.0, 340.76500000000004, 14.909999999999998, 243.31999999999996, 13.51, 299.77, 0.0, 0.0, 1068.425, 893.0950000000001, 0.0, 27.230000000000004, 0.0, 816.195, 28.580000000000002, 645.695, 1027.665, 0.0], \"sizemode\": \"area\"}, \"text\": [31.969, 51.77, 18.098, 15.557, 9.318999999999999, 206.65599999999998, 38.138000000000005, 19.0, 4.567, 23.252, 15.710999999999999, 6.785, 0.0, 1.624, 21.096, 10.384, 29.682, 6.236000000000001, 0.0, 2.174, 32.234, 17.214000000000002, 0.0, 6.318, 0.0, 133.487, 2.121, 26.221, 6.979, 132.593, 57.119, 63.415, 0.0, 0.0, 90.755, 19.959, 4.058, 16.25, 25.008000000000003, 70.487, 37.75, 0.0, 47.174, 3.6630000000000003, 11.544, 66.132, 31.487, 25.304000000000002, 27.37, 12.462, 0.0], \"type\": \"scattergeo\"}, {\"locationmode\": \"country names\", \"locations\": [\"Anguilla\", \"Antigua and Barbuda\", \"Aruba\", \"Bahamas\", \"Barbados\", \"Belize\", \"Bermuda\", \"Bonaire Sint Eustatius and Saba\", \"British Virgin Islands\", \"Canada\", \"Cayman Islands\", \"Costa Rica\", \"Cuba\", \"Curacao\", \"Dominica\", \"Dominican Republic\", \"El Salvador\", \"Greenland\", \"Grenada\", \"Guatemala\", \"Haiti\", \"Honduras\", \"Jamaica\", \"Mexico\", \"Montserrat\", \"Nicaragua\", \"Panama\", \"Puerto Rico\", \"Saint Kitts and Nevis\", \"Saint Lucia\", \"Saint Vincent and the Grenadines\", \"Sint Maarten (Dutch part)\", \"Trinidad and Tobago\", \"Turks and Caicos Islands\", \"United States\", \"United States Virgin Islands\"], \"marker\": {\"color\": \"lightseagreen\", \"line\": {\"color\": \"black\", \"width\": 0.5}, \"size\": [0.0, 0.0, 46.83, 305.15, 0.0, 0.0, 0.0, 0.0, 0.0, 43.585, 0.0, 480.94499999999994, 3.975, 0.0, 0.0, 798.77, 299.865, 0.0, 0.0, 340.76500000000004, 14.909999999999998, 243.31999999999996, 13.51, 299.77, 0.0, 0.0, 1068.425, 893.0950000000001, 0.0, 27.230000000000004, 0.0, 816.195, 28.580000000000002, 645.695, 1027.665, 0.0], \"sizemode\": \"area\"}, \"text\": [31.969, 51.77, 18.098, 15.557, 9.318999999999999, 206.65599999999998, 38.138000000000005, 19.0, 4.567, 23.252, 15.710999999999999, 6.785, 0.0, 1.624, 21.096, 10.384, 29.682, 6.236000000000001, 0.0, 2.174, 32.234, 17.214000000000002, 0.0, 6.318, 0.0, 133.487, 2.121, 26.221, 6.979, 132.593, 57.119, 63.415, 0.0, 0.0, 90.755, 19.959, 4.058, 16.25, 25.008000000000003, 70.487, 37.75, 0.0, 47.174, 3.6630000000000003, 11.544, 66.132, 31.487, 25.304000000000002, 27.37, 12.462, 0.0], \"type\": \"scattergeo\"}, {\"locationmode\": \"country names\", \"locations\": [\"Anguilla\", \"Antigua and Barbuda\", \"Aruba\", \"Bahamas\", \"Barbados\", \"Belize\", \"Bermuda\", \"Bonaire Sint Eustatius and Saba\", \"British Virgin Islands\", \"Canada\", \"Cayman Islands\", \"Costa Rica\", \"Cuba\", \"Curacao\", \"Dominica\", \"Dominican Republic\", \"El Salvador\", \"Greenland\", \"Grenada\", \"Guatemala\", \"Haiti\", \"Honduras\", \"Jamaica\", \"Mexico\", \"Montserrat\", \"Nicaragua\", \"Panama\", \"Puerto Rico\", \"Saint Kitts and Nevis\", \"Saint Lucia\", \"Saint Vincent and the Grenadines\", \"Sint Maarten (Dutch part)\", \"Trinidad and Tobago\", \"Turks and Caicos Islands\", \"United States\", \"United States Virgin Islands\"], \"marker\": {\"color\": \"lightseagreen\", \"line\": {\"color\": \"black\", \"width\": 0.5}, \"size\": [0.0, 0.0, 46.83, 305.15, 0.0, 0.0, 0.0, 0.0, 0.0, 43.585, 0.0, 480.94499999999994, 3.975, 0.0, 0.0, 798.77, 299.865, 0.0, 0.0, 340.76500000000004, 14.909999999999998, 243.31999999999996, 13.51, 299.77, 0.0, 0.0, 1068.425, 893.0950000000001, 0.0, 27.230000000000004, 0.0, 816.195, 28.580000000000002, 645.695, 1027.665, 0.0], \"sizemode\": \"area\"}, \"text\": [31.969, 51.77, 18.098, 15.557, 9.318999999999999, 206.65599999999998, 38.138000000000005, 19.0, 4.567, 23.252, 15.710999999999999, 6.785, 0.0, 1.624, 21.096, 10.384, 29.682, 6.236000000000001, 0.0, 2.174, 32.234, 17.214000000000002, 0.0, 6.318, 0.0, 133.487, 2.121, 26.221, 6.979, 132.593, 57.119, 63.415, 0.0, 0.0, 90.755, 19.959, 4.058, 16.25, 25.008000000000003, 70.487, 37.75, 0.0, 47.174, 3.6630000000000003, 11.544, 66.132, 31.487, 25.304000000000002, 27.37, 12.462, 0.0], \"type\": \"scattergeo\"}, {\"locationmode\": \"country names\", \"locations\": [\"Anguilla\", \"Antigua and Barbuda\", \"Aruba\", \"Bahamas\", \"Barbados\", \"Belize\", \"Bermuda\", \"Bonaire Sint Eustatius and Saba\", \"British Virgin Islands\", \"Canada\", \"Cayman Islands\", \"Costa Rica\", \"Cuba\", \"Curacao\", \"Dominica\", \"Dominican Republic\", \"El Salvador\", \"Greenland\", \"Grenada\", \"Guatemala\", \"Haiti\", \"Honduras\", \"Jamaica\", \"Mexico\", \"Montserrat\", \"Nicaragua\", \"Panama\", \"Puerto Rico\", \"Saint Kitts and Nevis\", \"Saint Lucia\", \"Saint Vincent and the Grenadines\", \"Sint Maarten (Dutch part)\", \"Trinidad and Tobago\", \"Turks and Caicos Islands\", \"United States\", \"United States Virgin Islands\"], \"marker\": {\"color\": \"lightseagreen\", \"line\": {\"color\": \"black\", \"width\": 0.5}, \"size\": [0.0, 0.0, 46.83, 305.15, 0.0, 0.0, 0.0, 0.0, 0.0, 43.585, 0.0, 480.94499999999994, 3.975, 0.0, 0.0, 798.77, 299.865, 0.0, 0.0, 340.76500000000004, 14.909999999999998, 243.31999999999996, 13.51, 299.77, 0.0, 0.0, 1068.425, 893.0950000000001, 0.0, 27.230000000000004, 0.0, 816.195, 28.580000000000002, 645.695, 1027.665, 0.0], \"sizemode\": \"area\"}, \"text\": [31.969, 51.77, 18.098, 15.557, 9.318999999999999, 206.65599999999998, 38.138000000000005, 19.0, 4.567, 23.252, 15.710999999999999, 6.785, 0.0, 1.624, 21.096, 10.384, 29.682, 6.236000000000001, 0.0, 2.174, 32.234, 17.214000000000002, 0.0, 6.318, 0.0, 133.487, 2.121, 26.221, 6.979, 132.593, 57.119, 63.415, 0.0, 0.0, 90.755, 19.959, 4.058, 16.25, 25.008000000000003, 70.487, 37.75, 0.0, 47.174, 3.6630000000000003, 11.544, 66.132, 31.487, 25.304000000000002, 27.37, 12.462, 0.0], \"type\": \"scattergeo\"}],\n",
       "                        {\"geo\": {\"coastlinecolor\": \"#000000\", \"lakecolor\": \"#0c59f2\", \"landcolor\": \"#107548\", \"oceancolor\": \"#0e758a\", \"projection\": {\"type\": \"mollweide\"}, \"resolution\": 110, \"scope\": \"north america\", \"showcoastlines\": true, \"showocean\": true}, \"showlegend\": false, \"template\": {\"data\": {\"bar\": [{\"error_x\": {\"color\": \"#2a3f5f\"}, \"error_y\": {\"color\": \"#2a3f5f\"}, \"marker\": {\"line\": {\"color\": \"#E5ECF6\", \"width\": 0.5}}, \"type\": \"bar\"}], \"barpolar\": [{\"marker\": {\"line\": {\"color\": \"#E5ECF6\", \"width\": 0.5}}, \"type\": \"barpolar\"}], \"carpet\": [{\"aaxis\": {\"endlinecolor\": \"#2a3f5f\", \"gridcolor\": \"white\", \"linecolor\": \"white\", \"minorgridcolor\": \"white\", \"startlinecolor\": \"#2a3f5f\"}, \"baxis\": {\"endlinecolor\": \"#2a3f5f\", \"gridcolor\": \"white\", \"linecolor\": \"white\", \"minorgridcolor\": \"white\", \"startlinecolor\": \"#2a3f5f\"}, \"type\": \"carpet\"}], \"choropleth\": [{\"colorbar\": {\"outlinewidth\": 0, \"ticks\": \"\"}, \"type\": \"choropleth\"}], \"contour\": [{\"colorbar\": {\"outlinewidth\": 0, \"ticks\": \"\"}, \"colorscale\": [[0.0, \"#0d0887\"], [0.1111111111111111, \"#46039f\"], [0.2222222222222222, \"#7201a8\"], [0.3333333333333333, \"#9c179e\"], [0.4444444444444444, \"#bd3786\"], [0.5555555555555556, \"#d8576b\"], [0.6666666666666666, \"#ed7953\"], [0.7777777777777778, \"#fb9f3a\"], [0.8888888888888888, \"#fdca26\"], [1.0, \"#f0f921\"]], \"type\": \"contour\"}], \"contourcarpet\": [{\"colorbar\": {\"outlinewidth\": 0, \"ticks\": \"\"}, \"type\": \"contourcarpet\"}], \"heatmap\": [{\"colorbar\": {\"outlinewidth\": 0, \"ticks\": \"\"}, \"colorscale\": [[0.0, \"#0d0887\"], [0.1111111111111111, \"#46039f\"], [0.2222222222222222, \"#7201a8\"], [0.3333333333333333, \"#9c179e\"], [0.4444444444444444, \"#bd3786\"], [0.5555555555555556, \"#d8576b\"], [0.6666666666666666, \"#ed7953\"], [0.7777777777777778, \"#fb9f3a\"], [0.8888888888888888, \"#fdca26\"], [1.0, \"#f0f921\"]], \"type\": \"heatmap\"}], \"heatmapgl\": [{\"colorbar\": {\"outlinewidth\": 0, \"ticks\": \"\"}, \"colorscale\": [[0.0, \"#0d0887\"], [0.1111111111111111, \"#46039f\"], [0.2222222222222222, \"#7201a8\"], [0.3333333333333333, \"#9c179e\"], [0.4444444444444444, \"#bd3786\"], [0.5555555555555556, \"#d8576b\"], [0.6666666666666666, \"#ed7953\"], [0.7777777777777778, \"#fb9f3a\"], [0.8888888888888888, \"#fdca26\"], [1.0, \"#f0f921\"]], \"type\": \"heatmapgl\"}], \"histogram\": [{\"marker\": {\"colorbar\": {\"outlinewidth\": 0, \"ticks\": \"\"}}, \"type\": \"histogram\"}], \"histogram2d\": [{\"colorbar\": {\"outlinewidth\": 0, \"ticks\": \"\"}, \"colorscale\": [[0.0, \"#0d0887\"], [0.1111111111111111, \"#46039f\"], [0.2222222222222222, \"#7201a8\"], [0.3333333333333333, \"#9c179e\"], [0.4444444444444444, \"#bd3786\"], [0.5555555555555556, \"#d8576b\"], [0.6666666666666666, \"#ed7953\"], [0.7777777777777778, \"#fb9f3a\"], [0.8888888888888888, \"#fdca26\"], [1.0, \"#f0f921\"]], \"type\": \"histogram2d\"}], \"histogram2dcontour\": [{\"colorbar\": {\"outlinewidth\": 0, \"ticks\": \"\"}, \"colorscale\": [[0.0, \"#0d0887\"], [0.1111111111111111, \"#46039f\"], [0.2222222222222222, \"#7201a8\"], [0.3333333333333333, \"#9c179e\"], [0.4444444444444444, \"#bd3786\"], [0.5555555555555556, \"#d8576b\"], [0.6666666666666666, \"#ed7953\"], [0.7777777777777778, \"#fb9f3a\"], [0.8888888888888888, \"#fdca26\"], [1.0, \"#f0f921\"]], \"type\": \"histogram2dcontour\"}], \"mesh3d\": [{\"colorbar\": {\"outlinewidth\": 0, \"ticks\": \"\"}, \"type\": \"mesh3d\"}], \"parcoords\": [{\"line\": {\"colorbar\": {\"outlinewidth\": 0, \"ticks\": \"\"}}, \"type\": \"parcoords\"}], \"pie\": [{\"automargin\": true, \"type\": \"pie\"}], \"scatter\": [{\"marker\": {\"colorbar\": {\"outlinewidth\": 0, \"ticks\": \"\"}}, \"type\": \"scatter\"}], \"scatter3d\": [{\"line\": {\"colorbar\": {\"outlinewidth\": 0, \"ticks\": \"\"}}, \"marker\": {\"colorbar\": {\"outlinewidth\": 0, \"ticks\": \"\"}}, \"type\": \"scatter3d\"}], \"scattercarpet\": [{\"marker\": {\"colorbar\": {\"outlinewidth\": 0, \"ticks\": \"\"}}, \"type\": \"scattercarpet\"}], \"scattergeo\": [{\"marker\": {\"colorbar\": {\"outlinewidth\": 0, \"ticks\": \"\"}}, \"type\": \"scattergeo\"}], \"scattergl\": [{\"marker\": {\"colorbar\": {\"outlinewidth\": 0, \"ticks\": \"\"}}, \"type\": \"scattergl\"}], \"scattermapbox\": [{\"marker\": {\"colorbar\": {\"outlinewidth\": 0, \"ticks\": \"\"}}, \"type\": \"scattermapbox\"}], \"scatterpolar\": [{\"marker\": {\"colorbar\": {\"outlinewidth\": 0, \"ticks\": \"\"}}, \"type\": \"scatterpolar\"}], \"scatterpolargl\": [{\"marker\": {\"colorbar\": {\"outlinewidth\": 0, \"ticks\": \"\"}}, \"type\": \"scatterpolargl\"}], \"scatterternary\": [{\"marker\": {\"colorbar\": {\"outlinewidth\": 0, \"ticks\": \"\"}}, \"type\": \"scatterternary\"}], \"surface\": [{\"colorbar\": {\"outlinewidth\": 0, \"ticks\": \"\"}, \"colorscale\": [[0.0, \"#0d0887\"], [0.1111111111111111, \"#46039f\"], [0.2222222222222222, \"#7201a8\"], [0.3333333333333333, \"#9c179e\"], [0.4444444444444444, \"#bd3786\"], [0.5555555555555556, \"#d8576b\"], [0.6666666666666666, \"#ed7953\"], [0.7777777777777778, \"#fb9f3a\"], [0.8888888888888888, \"#fdca26\"], [1.0, \"#f0f921\"]], \"type\": \"surface\"}], \"table\": [{\"cells\": {\"fill\": {\"color\": \"#EBF0F8\"}, \"line\": {\"color\": \"white\"}}, \"header\": {\"fill\": {\"color\": \"#C8D4E3\"}, \"line\": {\"color\": \"white\"}}, \"type\": \"table\"}]}, \"layout\": {\"annotationdefaults\": {\"arrowcolor\": \"#2a3f5f\", \"arrowhead\": 0, \"arrowwidth\": 1}, \"coloraxis\": {\"colorbar\": {\"outlinewidth\": 0, \"ticks\": \"\"}}, \"colorscale\": {\"diverging\": [[0, \"#8e0152\"], [0.1, \"#c51b7d\"], [0.2, \"#de77ae\"], [0.3, \"#f1b6da\"], [0.4, \"#fde0ef\"], [0.5, \"#f7f7f7\"], [0.6, \"#e6f5d0\"], [0.7, \"#b8e186\"], [0.8, \"#7fbc41\"], [0.9, \"#4d9221\"], [1, \"#276419\"]], \"sequential\": [[0.0, \"#0d0887\"], [0.1111111111111111, \"#46039f\"], [0.2222222222222222, \"#7201a8\"], [0.3333333333333333, \"#9c179e\"], [0.4444444444444444, \"#bd3786\"], [0.5555555555555556, \"#d8576b\"], [0.6666666666666666, \"#ed7953\"], [0.7777777777777778, \"#fb9f3a\"], [0.8888888888888888, \"#fdca26\"], [1.0, \"#f0f921\"]], \"sequentialminus\": [[0.0, \"#0d0887\"], [0.1111111111111111, \"#46039f\"], [0.2222222222222222, \"#7201a8\"], [0.3333333333333333, \"#9c179e\"], [0.4444444444444444, \"#bd3786\"], [0.5555555555555556, \"#d8576b\"], [0.6666666666666666, \"#ed7953\"], [0.7777777777777778, \"#fb9f3a\"], [0.8888888888888888, \"#fdca26\"], [1.0, \"#f0f921\"]]}, \"colorway\": [\"#636efa\", \"#EF553B\", \"#00cc96\", \"#ab63fa\", \"#FFA15A\", \"#19d3f3\", \"#FF6692\", \"#B6E880\", \"#FF97FF\", \"#FECB52\"], \"font\": {\"color\": \"#2a3f5f\"}, \"geo\": {\"bgcolor\": \"white\", \"lakecolor\": \"white\", \"landcolor\": \"#E5ECF6\", \"showlakes\": true, \"showland\": true, \"subunitcolor\": \"white\"}, \"hoverlabel\": {\"align\": \"left\"}, \"hovermode\": \"closest\", \"mapbox\": {\"style\": \"light\"}, \"paper_bgcolor\": \"white\", \"plot_bgcolor\": \"#E5ECF6\", \"polar\": {\"angularaxis\": {\"gridcolor\": \"white\", \"linecolor\": \"white\", \"ticks\": \"\"}, \"bgcolor\": \"#E5ECF6\", \"radialaxis\": {\"gridcolor\": \"white\", \"linecolor\": \"white\", \"ticks\": \"\"}}, \"scene\": {\"xaxis\": {\"backgroundcolor\": \"#E5ECF6\", \"gridcolor\": \"white\", \"gridwidth\": 2, \"linecolor\": \"white\", \"showbackground\": true, \"ticks\": \"\", \"zerolinecolor\": \"white\"}, \"yaxis\": {\"backgroundcolor\": \"#E5ECF6\", \"gridcolor\": \"white\", \"gridwidth\": 2, \"linecolor\": \"white\", \"showbackground\": true, \"ticks\": \"\", \"zerolinecolor\": \"white\"}, \"zaxis\": {\"backgroundcolor\": \"#E5ECF6\", \"gridcolor\": \"white\", \"gridwidth\": 2, \"linecolor\": \"white\", \"showbackground\": true, \"ticks\": \"\", \"zerolinecolor\": \"white\"}}, \"shapedefaults\": {\"line\": {\"color\": \"#2a3f5f\"}}, \"ternary\": {\"aaxis\": {\"gridcolor\": \"white\", \"linecolor\": \"white\", \"ticks\": \"\"}, \"baxis\": {\"gridcolor\": \"white\", \"linecolor\": \"white\", \"ticks\": \"\"}, \"bgcolor\": \"#E5ECF6\", \"caxis\": {\"gridcolor\": \"white\", \"linecolor\": \"white\", \"ticks\": \"\"}}, \"title\": {\"x\": 0.05}, \"xaxis\": {\"automargin\": true, \"gridcolor\": \"white\", \"linecolor\": \"white\", \"ticks\": \"\", \"title\": {\"standoff\": 15}, \"zerolinecolor\": \"white\", \"zerolinewidth\": 2}, \"yaxis\": {\"automargin\": true, \"gridcolor\": \"white\", \"linecolor\": \"white\", \"ticks\": \"\", \"title\": {\"standoff\": 15}, \"zerolinecolor\": \"white\", \"zerolinewidth\": 2}}}, \"title\": {\"text\": \"New cases North America per million habitants, 2020-07-31\"}},\n",
       "                        {\"responsive\": true}\n",
       "                    ).then(function(){\n",
       "                            \n",
       "var gd = document.getElementById('7250e2e9-0528-4a12-a7a7-82d23de3a0f2');\n",
       "var x = new MutationObserver(function (mutations, observer) {{\n",
       "        var display = window.getComputedStyle(gd).display;\n",
       "        if (!display || display === 'none') {{\n",
       "            console.log([gd, 'removed!']);\n",
       "            Plotly.purge(gd);\n",
       "            observer.disconnect();\n",
       "        }}\n",
       "}});\n",
       "\n",
       "// Listen for the removal of the full notebook cells\n",
       "var notebookContainer = gd.closest('#notebook-container');\n",
       "if (notebookContainer) {{\n",
       "    x.observe(notebookContainer, {childList: true});\n",
       "}}\n",
       "\n",
       "// Listen for the clearing of the current output cell\n",
       "var outputEl = gd.closest('.output');\n",
       "if (outputEl) {{\n",
       "    x.observe(outputEl, {childList: true});\n",
       "}}\n",
       "\n",
       "                        })\n",
       "                };\n",
       "                });\n",
       "            </script>\n",
       "        </div>"
      ]
     },
     "metadata": {},
     "output_type": "display_data"
    }
   ],
   "source": [
    "# FIGURE, MAP 2\n",
    "fig = go.Figure()\n",
    "\n",
    "#IMPORTING DATA TO FIGURE\n",
    "for i in cov_df_con2:\n",
    "    fig.add_trace(go.Scattergeo(\n",
    "            locations = cov_df_con2['location'],\n",
    "            locationmode = 'country names',\n",
    "            text = cov_df_con1['new_cases_per_million'],\n",
    "            marker = dict(\n",
    "                size = cov_df_con2['new_cases_per_million']*5,\n",
    "                color = 'lightseagreen',\n",
    "                line_color='black',\n",
    "                line_width=0.5,\n",
    "                sizemode = 'area'\n",
    "        )))\n",
    " \n",
    "\n",
    "#STYLING\n",
    "fig.update_layout(\n",
    "    title_text = 'New cases ' + continent_sel2 +' per million habitants, '+ str(day_chosen),\n",
    "    showlegend = False,\n",
    "    geo = dict(\n",
    "        scope=continent_sel2.lower(),\n",
    "        resolution=110,\n",
    "        projection_type='mollweide',\n",
    "        showcoastlines=True,\n",
    "        showocean=True,\n",
    "#colors in hex code\n",
    "        oceancolor='#0e758a',\n",
    "        lakecolor='#0c59f2',\n",
    "        coastlinecolor='#000000',\n",
    "        landcolor='#107548',\n",
    "    )\n",
    ")\n",
    " \n",
    "# LET ME SEE\n",
    "fig.show()"
   ]
  },
  {
   "cell_type": "code",
   "execution_count": 60,
   "metadata": {},
   "outputs": [
    {
     "data": {
      "application/vnd.plotly.v1+json": {
       "config": {
        "plotlyServerURL": "https://plot.ly"
       },
       "data": [
        {
         "colorbar": {
          "title": {
           "text": "New cases per million <br>(2020-07-31)"
          }
         },
         "colorscale": [
          [
           0,
           "rgb(230, 240, 240)"
          ],
          [
           0.09090909090909091,
           "rgb(191, 221, 229)"
          ],
          [
           0.18181818181818182,
           "rgb(156, 201, 226)"
          ],
          [
           0.2727272727272727,
           "rgb(129, 180, 227)"
          ],
          [
           0.36363636363636365,
           "rgb(115, 154, 228)"
          ],
          [
           0.45454545454545453,
           "rgb(117, 127, 221)"
          ],
          [
           0.5454545454545454,
           "rgb(120, 100, 202)"
          ],
          [
           0.6363636363636364,
           "rgb(119, 74, 175)"
          ],
          [
           0.7272727272727273,
           "rgb(113, 50, 141)"
          ],
          [
           0.8181818181818182,
           "rgb(100, 31, 104)"
          ],
          [
           0.9090909090909091,
           "rgb(80, 20, 66)"
          ],
          [
           1,
           "rgb(54, 14, 36)"
          ]
         ],
         "locationmode": "country names",
         "locations": [
          "Albania",
          "Andorra",
          "Austria",
          "Belarus",
          "Belgium",
          "Bosnia and Herzegovina",
          "Bulgaria",
          "Croatia",
          "Cyprus",
          "Czech Republic",
          "Denmark",
          "Estonia",
          "Faeroe Islands",
          "Finland",
          "France",
          "Germany",
          "Gibraltar",
          "Greece",
          "Guernsey",
          "Hungary",
          "Iceland",
          "Ireland",
          "Isle of Man",
          "Italy",
          "Jersey",
          "Kosovo",
          "Latvia",
          "Liechtenstein",
          "Lithuania",
          "Luxembourg",
          "Macedonia",
          "Malta",
          "Moldova",
          "Monaco",
          "Montenegro",
          "Netherlands",
          "Norway",
          "Poland",
          "Portugal",
          "Romania",
          "Russia",
          "San Marino",
          "Serbia",
          "Slovakia",
          "Slovenia",
          "Spain",
          "Sweden",
          "Switzerland",
          "Ukraine",
          "United Kingdom",
          "Vatican"
         ],
         "type": "choropleth",
         "z": [
          31.969,
          51.77,
          18.098,
          15.557,
          9.318999999999999,
          206.65599999999998,
          38.138000000000005,
          19,
          4.567,
          23.252,
          15.710999999999999,
          6.785,
          0,
          1.624,
          21.096,
          10.384,
          29.682,
          6.236000000000001,
          0,
          2.174,
          32.234,
          17.214000000000002,
          0,
          6.318,
          0,
          133.487,
          2.121,
          26.221,
          6.979,
          132.593,
          57.119,
          63.415,
          0,
          0,
          90.755,
          19.959,
          4.058,
          16.25,
          25.008000000000003,
          70.487,
          37.75,
          0,
          47.174,
          3.6630000000000003,
          11.544,
          66.132,
          31.487,
          25.304000000000002,
          27.37,
          12.462,
          0
         ]
        }
       ],
       "layout": {
        "geo": {
         "scope": "europe"
        },
        "template": {
         "data": {
          "bar": [
           {
            "error_x": {
             "color": "#2a3f5f"
            },
            "error_y": {
             "color": "#2a3f5f"
            },
            "marker": {
             "line": {
              "color": "#E5ECF6",
              "width": 0.5
             }
            },
            "type": "bar"
           }
          ],
          "barpolar": [
           {
            "marker": {
             "line": {
              "color": "#E5ECF6",
              "width": 0.5
             }
            },
            "type": "barpolar"
           }
          ],
          "carpet": [
           {
            "aaxis": {
             "endlinecolor": "#2a3f5f",
             "gridcolor": "white",
             "linecolor": "white",
             "minorgridcolor": "white",
             "startlinecolor": "#2a3f5f"
            },
            "baxis": {
             "endlinecolor": "#2a3f5f",
             "gridcolor": "white",
             "linecolor": "white",
             "minorgridcolor": "white",
             "startlinecolor": "#2a3f5f"
            },
            "type": "carpet"
           }
          ],
          "choropleth": [
           {
            "colorbar": {
             "outlinewidth": 0,
             "ticks": ""
            },
            "type": "choropleth"
           }
          ],
          "contour": [
           {
            "colorbar": {
             "outlinewidth": 0,
             "ticks": ""
            },
            "colorscale": [
             [
              0,
              "#0d0887"
             ],
             [
              0.1111111111111111,
              "#46039f"
             ],
             [
              0.2222222222222222,
              "#7201a8"
             ],
             [
              0.3333333333333333,
              "#9c179e"
             ],
             [
              0.4444444444444444,
              "#bd3786"
             ],
             [
              0.5555555555555556,
              "#d8576b"
             ],
             [
              0.6666666666666666,
              "#ed7953"
             ],
             [
              0.7777777777777778,
              "#fb9f3a"
             ],
             [
              0.8888888888888888,
              "#fdca26"
             ],
             [
              1,
              "#f0f921"
             ]
            ],
            "type": "contour"
           }
          ],
          "contourcarpet": [
           {
            "colorbar": {
             "outlinewidth": 0,
             "ticks": ""
            },
            "type": "contourcarpet"
           }
          ],
          "heatmap": [
           {
            "colorbar": {
             "outlinewidth": 0,
             "ticks": ""
            },
            "colorscale": [
             [
              0,
              "#0d0887"
             ],
             [
              0.1111111111111111,
              "#46039f"
             ],
             [
              0.2222222222222222,
              "#7201a8"
             ],
             [
              0.3333333333333333,
              "#9c179e"
             ],
             [
              0.4444444444444444,
              "#bd3786"
             ],
             [
              0.5555555555555556,
              "#d8576b"
             ],
             [
              0.6666666666666666,
              "#ed7953"
             ],
             [
              0.7777777777777778,
              "#fb9f3a"
             ],
             [
              0.8888888888888888,
              "#fdca26"
             ],
             [
              1,
              "#f0f921"
             ]
            ],
            "type": "heatmap"
           }
          ],
          "heatmapgl": [
           {
            "colorbar": {
             "outlinewidth": 0,
             "ticks": ""
            },
            "colorscale": [
             [
              0,
              "#0d0887"
             ],
             [
              0.1111111111111111,
              "#46039f"
             ],
             [
              0.2222222222222222,
              "#7201a8"
             ],
             [
              0.3333333333333333,
              "#9c179e"
             ],
             [
              0.4444444444444444,
              "#bd3786"
             ],
             [
              0.5555555555555556,
              "#d8576b"
             ],
             [
              0.6666666666666666,
              "#ed7953"
             ],
             [
              0.7777777777777778,
              "#fb9f3a"
             ],
             [
              0.8888888888888888,
              "#fdca26"
             ],
             [
              1,
              "#f0f921"
             ]
            ],
            "type": "heatmapgl"
           }
          ],
          "histogram": [
           {
            "marker": {
             "colorbar": {
              "outlinewidth": 0,
              "ticks": ""
             }
            },
            "type": "histogram"
           }
          ],
          "histogram2d": [
           {
            "colorbar": {
             "outlinewidth": 0,
             "ticks": ""
            },
            "colorscale": [
             [
              0,
              "#0d0887"
             ],
             [
              0.1111111111111111,
              "#46039f"
             ],
             [
              0.2222222222222222,
              "#7201a8"
             ],
             [
              0.3333333333333333,
              "#9c179e"
             ],
             [
              0.4444444444444444,
              "#bd3786"
             ],
             [
              0.5555555555555556,
              "#d8576b"
             ],
             [
              0.6666666666666666,
              "#ed7953"
             ],
             [
              0.7777777777777778,
              "#fb9f3a"
             ],
             [
              0.8888888888888888,
              "#fdca26"
             ],
             [
              1,
              "#f0f921"
             ]
            ],
            "type": "histogram2d"
           }
          ],
          "histogram2dcontour": [
           {
            "colorbar": {
             "outlinewidth": 0,
             "ticks": ""
            },
            "colorscale": [
             [
              0,
              "#0d0887"
             ],
             [
              0.1111111111111111,
              "#46039f"
             ],
             [
              0.2222222222222222,
              "#7201a8"
             ],
             [
              0.3333333333333333,
              "#9c179e"
             ],
             [
              0.4444444444444444,
              "#bd3786"
             ],
             [
              0.5555555555555556,
              "#d8576b"
             ],
             [
              0.6666666666666666,
              "#ed7953"
             ],
             [
              0.7777777777777778,
              "#fb9f3a"
             ],
             [
              0.8888888888888888,
              "#fdca26"
             ],
             [
              1,
              "#f0f921"
             ]
            ],
            "type": "histogram2dcontour"
           }
          ],
          "mesh3d": [
           {
            "colorbar": {
             "outlinewidth": 0,
             "ticks": ""
            },
            "type": "mesh3d"
           }
          ],
          "parcoords": [
           {
            "line": {
             "colorbar": {
              "outlinewidth": 0,
              "ticks": ""
             }
            },
            "type": "parcoords"
           }
          ],
          "pie": [
           {
            "automargin": true,
            "type": "pie"
           }
          ],
          "scatter": [
           {
            "marker": {
             "colorbar": {
              "outlinewidth": 0,
              "ticks": ""
             }
            },
            "type": "scatter"
           }
          ],
          "scatter3d": [
           {
            "line": {
             "colorbar": {
              "outlinewidth": 0,
              "ticks": ""
             }
            },
            "marker": {
             "colorbar": {
              "outlinewidth": 0,
              "ticks": ""
             }
            },
            "type": "scatter3d"
           }
          ],
          "scattercarpet": [
           {
            "marker": {
             "colorbar": {
              "outlinewidth": 0,
              "ticks": ""
             }
            },
            "type": "scattercarpet"
           }
          ],
          "scattergeo": [
           {
            "marker": {
             "colorbar": {
              "outlinewidth": 0,
              "ticks": ""
             }
            },
            "type": "scattergeo"
           }
          ],
          "scattergl": [
           {
            "marker": {
             "colorbar": {
              "outlinewidth": 0,
              "ticks": ""
             }
            },
            "type": "scattergl"
           }
          ],
          "scattermapbox": [
           {
            "marker": {
             "colorbar": {
              "outlinewidth": 0,
              "ticks": ""
             }
            },
            "type": "scattermapbox"
           }
          ],
          "scatterpolar": [
           {
            "marker": {
             "colorbar": {
              "outlinewidth": 0,
              "ticks": ""
             }
            },
            "type": "scatterpolar"
           }
          ],
          "scatterpolargl": [
           {
            "marker": {
             "colorbar": {
              "outlinewidth": 0,
              "ticks": ""
             }
            },
            "type": "scatterpolargl"
           }
          ],
          "scatterternary": [
           {
            "marker": {
             "colorbar": {
              "outlinewidth": 0,
              "ticks": ""
             }
            },
            "type": "scatterternary"
           }
          ],
          "surface": [
           {
            "colorbar": {
             "outlinewidth": 0,
             "ticks": ""
            },
            "colorscale": [
             [
              0,
              "#0d0887"
             ],
             [
              0.1111111111111111,
              "#46039f"
             ],
             [
              0.2222222222222222,
              "#7201a8"
             ],
             [
              0.3333333333333333,
              "#9c179e"
             ],
             [
              0.4444444444444444,
              "#bd3786"
             ],
             [
              0.5555555555555556,
              "#d8576b"
             ],
             [
              0.6666666666666666,
              "#ed7953"
             ],
             [
              0.7777777777777778,
              "#fb9f3a"
             ],
             [
              0.8888888888888888,
              "#fdca26"
             ],
             [
              1,
              "#f0f921"
             ]
            ],
            "type": "surface"
           }
          ],
          "table": [
           {
            "cells": {
             "fill": {
              "color": "#EBF0F8"
             },
             "line": {
              "color": "white"
             }
            },
            "header": {
             "fill": {
              "color": "#C8D4E3"
             },
             "line": {
              "color": "white"
             }
            },
            "type": "table"
           }
          ]
         },
         "layout": {
          "annotationdefaults": {
           "arrowcolor": "#2a3f5f",
           "arrowhead": 0,
           "arrowwidth": 1
          },
          "coloraxis": {
           "colorbar": {
            "outlinewidth": 0,
            "ticks": ""
           }
          },
          "colorscale": {
           "diverging": [
            [
             0,
             "#8e0152"
            ],
            [
             0.1,
             "#c51b7d"
            ],
            [
             0.2,
             "#de77ae"
            ],
            [
             0.3,
             "#f1b6da"
            ],
            [
             0.4,
             "#fde0ef"
            ],
            [
             0.5,
             "#f7f7f7"
            ],
            [
             0.6,
             "#e6f5d0"
            ],
            [
             0.7,
             "#b8e186"
            ],
            [
             0.8,
             "#7fbc41"
            ],
            [
             0.9,
             "#4d9221"
            ],
            [
             1,
             "#276419"
            ]
           ],
           "sequential": [
            [
             0,
             "#0d0887"
            ],
            [
             0.1111111111111111,
             "#46039f"
            ],
            [
             0.2222222222222222,
             "#7201a8"
            ],
            [
             0.3333333333333333,
             "#9c179e"
            ],
            [
             0.4444444444444444,
             "#bd3786"
            ],
            [
             0.5555555555555556,
             "#d8576b"
            ],
            [
             0.6666666666666666,
             "#ed7953"
            ],
            [
             0.7777777777777778,
             "#fb9f3a"
            ],
            [
             0.8888888888888888,
             "#fdca26"
            ],
            [
             1,
             "#f0f921"
            ]
           ],
           "sequentialminus": [
            [
             0,
             "#0d0887"
            ],
            [
             0.1111111111111111,
             "#46039f"
            ],
            [
             0.2222222222222222,
             "#7201a8"
            ],
            [
             0.3333333333333333,
             "#9c179e"
            ],
            [
             0.4444444444444444,
             "#bd3786"
            ],
            [
             0.5555555555555556,
             "#d8576b"
            ],
            [
             0.6666666666666666,
             "#ed7953"
            ],
            [
             0.7777777777777778,
             "#fb9f3a"
            ],
            [
             0.8888888888888888,
             "#fdca26"
            ],
            [
             1,
             "#f0f921"
            ]
           ]
          },
          "colorway": [
           "#636efa",
           "#EF553B",
           "#00cc96",
           "#ab63fa",
           "#FFA15A",
           "#19d3f3",
           "#FF6692",
           "#B6E880",
           "#FF97FF",
           "#FECB52"
          ],
          "font": {
           "color": "#2a3f5f"
          },
          "geo": {
           "bgcolor": "white",
           "lakecolor": "white",
           "landcolor": "#E5ECF6",
           "showlakes": true,
           "showland": true,
           "subunitcolor": "white"
          },
          "hoverlabel": {
           "align": "left"
          },
          "hovermode": "closest",
          "mapbox": {
           "style": "light"
          },
          "paper_bgcolor": "white",
          "plot_bgcolor": "#E5ECF6",
          "polar": {
           "angularaxis": {
            "gridcolor": "white",
            "linecolor": "white",
            "ticks": ""
           },
           "bgcolor": "#E5ECF6",
           "radialaxis": {
            "gridcolor": "white",
            "linecolor": "white",
            "ticks": ""
           }
          },
          "scene": {
           "xaxis": {
            "backgroundcolor": "#E5ECF6",
            "gridcolor": "white",
            "gridwidth": 2,
            "linecolor": "white",
            "showbackground": true,
            "ticks": "",
            "zerolinecolor": "white"
           },
           "yaxis": {
            "backgroundcolor": "#E5ECF6",
            "gridcolor": "white",
            "gridwidth": 2,
            "linecolor": "white",
            "showbackground": true,
            "ticks": "",
            "zerolinecolor": "white"
           },
           "zaxis": {
            "backgroundcolor": "#E5ECF6",
            "gridcolor": "white",
            "gridwidth": 2,
            "linecolor": "white",
            "showbackground": true,
            "ticks": "",
            "zerolinecolor": "white"
           }
          },
          "shapedefaults": {
           "line": {
            "color": "#2a3f5f"
           }
          },
          "ternary": {
           "aaxis": {
            "gridcolor": "white",
            "linecolor": "white",
            "ticks": ""
           },
           "baxis": {
            "gridcolor": "white",
            "linecolor": "white",
            "ticks": ""
           },
           "bgcolor": "#E5ECF6",
           "caxis": {
            "gridcolor": "white",
            "linecolor": "white",
            "ticks": ""
           }
          },
          "title": {
           "x": 0.05
          },
          "xaxis": {
           "automargin": true,
           "gridcolor": "white",
           "linecolor": "white",
           "ticks": "",
           "title": {
            "standoff": 15
           },
           "zerolinecolor": "white",
           "zerolinewidth": 2
          },
          "yaxis": {
           "automargin": true,
           "gridcolor": "white",
           "linecolor": "white",
           "ticks": "",
           "title": {
            "standoff": 15
           },
           "zerolinecolor": "white",
           "zerolinewidth": 2
          }
         }
        },
        "title": {
         "text": "EUROPE ~ 2020-07-31"
        }
       }
      },
      "text/html": [
       "<div>\n",
       "        \n",
       "        \n",
       "            <div id=\"aaf03d5d-7bfe-488c-a289-d2f0ef608f5a\" class=\"plotly-graph-div\" style=\"height:525px; width:100%;\"></div>\n",
       "            <script type=\"text/javascript\">\n",
       "                require([\"plotly\"], function(Plotly) {\n",
       "                    window.PLOTLYENV=window.PLOTLYENV || {};\n",
       "                    \n",
       "                if (document.getElementById(\"aaf03d5d-7bfe-488c-a289-d2f0ef608f5a\")) {\n",
       "                    Plotly.newPlot(\n",
       "                        'aaf03d5d-7bfe-488c-a289-d2f0ef608f5a',\n",
       "                        [{\"colorbar\": {\"title\": {\"text\": \"New cases per million <br>(2020-07-31)\"}}, \"colorscale\": [[0.0, \"rgb(230, 240, 240)\"], [0.09090909090909091, \"rgb(191, 221, 229)\"], [0.18181818181818182, \"rgb(156, 201, 226)\"], [0.2727272727272727, \"rgb(129, 180, 227)\"], [0.36363636363636365, \"rgb(115, 154, 228)\"], [0.45454545454545453, \"rgb(117, 127, 221)\"], [0.5454545454545454, \"rgb(120, 100, 202)\"], [0.6363636363636364, \"rgb(119, 74, 175)\"], [0.7272727272727273, \"rgb(113, 50, 141)\"], [0.8181818181818182, \"rgb(100, 31, 104)\"], [0.9090909090909091, \"rgb(80, 20, 66)\"], [1.0, \"rgb(54, 14, 36)\"]], \"locationmode\": \"country names\", \"locations\": [\"Albania\", \"Andorra\", \"Austria\", \"Belarus\", \"Belgium\", \"Bosnia and Herzegovina\", \"Bulgaria\", \"Croatia\", \"Cyprus\", \"Czech Republic\", \"Denmark\", \"Estonia\", \"Faeroe Islands\", \"Finland\", \"France\", \"Germany\", \"Gibraltar\", \"Greece\", \"Guernsey\", \"Hungary\", \"Iceland\", \"Ireland\", \"Isle of Man\", \"Italy\", \"Jersey\", \"Kosovo\", \"Latvia\", \"Liechtenstein\", \"Lithuania\", \"Luxembourg\", \"Macedonia\", \"Malta\", \"Moldova\", \"Monaco\", \"Montenegro\", \"Netherlands\", \"Norway\", \"Poland\", \"Portugal\", \"Romania\", \"Russia\", \"San Marino\", \"Serbia\", \"Slovakia\", \"Slovenia\", \"Spain\", \"Sweden\", \"Switzerland\", \"Ukraine\", \"United Kingdom\", \"Vatican\"], \"type\": \"choropleth\", \"z\": [31.969, 51.77, 18.098, 15.557, 9.318999999999999, 206.65599999999998, 38.138000000000005, 19.0, 4.567, 23.252, 15.710999999999999, 6.785, 0.0, 1.624, 21.096, 10.384, 29.682, 6.236000000000001, 0.0, 2.174, 32.234, 17.214000000000002, 0.0, 6.318, 0.0, 133.487, 2.121, 26.221, 6.979, 132.593, 57.119, 63.415, 0.0, 0.0, 90.755, 19.959, 4.058, 16.25, 25.008000000000003, 70.487, 37.75, 0.0, 47.174, 3.6630000000000003, 11.544, 66.132, 31.487, 25.304000000000002, 27.37, 12.462, 0.0]}],\n",
       "                        {\"geo\": {\"scope\": \"europe\"}, \"template\": {\"data\": {\"bar\": [{\"error_x\": {\"color\": \"#2a3f5f\"}, \"error_y\": {\"color\": \"#2a3f5f\"}, \"marker\": {\"line\": {\"color\": \"#E5ECF6\", \"width\": 0.5}}, \"type\": \"bar\"}], \"barpolar\": [{\"marker\": {\"line\": {\"color\": \"#E5ECF6\", \"width\": 0.5}}, \"type\": \"barpolar\"}], \"carpet\": [{\"aaxis\": {\"endlinecolor\": \"#2a3f5f\", \"gridcolor\": \"white\", \"linecolor\": \"white\", \"minorgridcolor\": \"white\", \"startlinecolor\": \"#2a3f5f\"}, \"baxis\": {\"endlinecolor\": \"#2a3f5f\", \"gridcolor\": \"white\", \"linecolor\": \"white\", \"minorgridcolor\": \"white\", \"startlinecolor\": \"#2a3f5f\"}, \"type\": \"carpet\"}], \"choropleth\": [{\"colorbar\": {\"outlinewidth\": 0, \"ticks\": \"\"}, \"type\": \"choropleth\"}], \"contour\": [{\"colorbar\": {\"outlinewidth\": 0, \"ticks\": \"\"}, \"colorscale\": [[0.0, \"#0d0887\"], [0.1111111111111111, \"#46039f\"], [0.2222222222222222, \"#7201a8\"], [0.3333333333333333, \"#9c179e\"], [0.4444444444444444, \"#bd3786\"], [0.5555555555555556, \"#d8576b\"], [0.6666666666666666, \"#ed7953\"], [0.7777777777777778, \"#fb9f3a\"], [0.8888888888888888, \"#fdca26\"], [1.0, \"#f0f921\"]], \"type\": \"contour\"}], \"contourcarpet\": [{\"colorbar\": {\"outlinewidth\": 0, \"ticks\": \"\"}, \"type\": \"contourcarpet\"}], \"heatmap\": [{\"colorbar\": {\"outlinewidth\": 0, \"ticks\": \"\"}, \"colorscale\": [[0.0, \"#0d0887\"], [0.1111111111111111, \"#46039f\"], [0.2222222222222222, \"#7201a8\"], [0.3333333333333333, \"#9c179e\"], [0.4444444444444444, \"#bd3786\"], [0.5555555555555556, \"#d8576b\"], [0.6666666666666666, \"#ed7953\"], [0.7777777777777778, \"#fb9f3a\"], [0.8888888888888888, \"#fdca26\"], [1.0, \"#f0f921\"]], \"type\": \"heatmap\"}], \"heatmapgl\": [{\"colorbar\": {\"outlinewidth\": 0, \"ticks\": \"\"}, \"colorscale\": [[0.0, \"#0d0887\"], [0.1111111111111111, \"#46039f\"], [0.2222222222222222, \"#7201a8\"], [0.3333333333333333, \"#9c179e\"], [0.4444444444444444, \"#bd3786\"], [0.5555555555555556, \"#d8576b\"], [0.6666666666666666, \"#ed7953\"], [0.7777777777777778, \"#fb9f3a\"], [0.8888888888888888, \"#fdca26\"], [1.0, \"#f0f921\"]], \"type\": \"heatmapgl\"}], \"histogram\": [{\"marker\": {\"colorbar\": {\"outlinewidth\": 0, \"ticks\": \"\"}}, \"type\": \"histogram\"}], \"histogram2d\": [{\"colorbar\": {\"outlinewidth\": 0, \"ticks\": \"\"}, \"colorscale\": [[0.0, \"#0d0887\"], [0.1111111111111111, \"#46039f\"], [0.2222222222222222, \"#7201a8\"], [0.3333333333333333, \"#9c179e\"], [0.4444444444444444, \"#bd3786\"], [0.5555555555555556, \"#d8576b\"], [0.6666666666666666, \"#ed7953\"], [0.7777777777777778, \"#fb9f3a\"], [0.8888888888888888, \"#fdca26\"], [1.0, \"#f0f921\"]], \"type\": \"histogram2d\"}], \"histogram2dcontour\": [{\"colorbar\": {\"outlinewidth\": 0, \"ticks\": \"\"}, \"colorscale\": [[0.0, \"#0d0887\"], [0.1111111111111111, \"#46039f\"], [0.2222222222222222, \"#7201a8\"], [0.3333333333333333, \"#9c179e\"], [0.4444444444444444, \"#bd3786\"], [0.5555555555555556, \"#d8576b\"], [0.6666666666666666, \"#ed7953\"], [0.7777777777777778, \"#fb9f3a\"], [0.8888888888888888, \"#fdca26\"], [1.0, \"#f0f921\"]], \"type\": \"histogram2dcontour\"}], \"mesh3d\": [{\"colorbar\": {\"outlinewidth\": 0, \"ticks\": \"\"}, \"type\": \"mesh3d\"}], \"parcoords\": [{\"line\": {\"colorbar\": {\"outlinewidth\": 0, \"ticks\": \"\"}}, \"type\": \"parcoords\"}], \"pie\": [{\"automargin\": true, \"type\": \"pie\"}], \"scatter\": [{\"marker\": {\"colorbar\": {\"outlinewidth\": 0, \"ticks\": \"\"}}, \"type\": \"scatter\"}], \"scatter3d\": [{\"line\": {\"colorbar\": {\"outlinewidth\": 0, \"ticks\": \"\"}}, \"marker\": {\"colorbar\": {\"outlinewidth\": 0, \"ticks\": \"\"}}, \"type\": \"scatter3d\"}], \"scattercarpet\": [{\"marker\": {\"colorbar\": {\"outlinewidth\": 0, \"ticks\": \"\"}}, \"type\": \"scattercarpet\"}], \"scattergeo\": [{\"marker\": {\"colorbar\": {\"outlinewidth\": 0, \"ticks\": \"\"}}, \"type\": \"scattergeo\"}], \"scattergl\": [{\"marker\": {\"colorbar\": {\"outlinewidth\": 0, \"ticks\": \"\"}}, \"type\": \"scattergl\"}], \"scattermapbox\": [{\"marker\": {\"colorbar\": {\"outlinewidth\": 0, \"ticks\": \"\"}}, \"type\": \"scattermapbox\"}], \"scatterpolar\": [{\"marker\": {\"colorbar\": {\"outlinewidth\": 0, \"ticks\": \"\"}}, \"type\": \"scatterpolar\"}], \"scatterpolargl\": [{\"marker\": {\"colorbar\": {\"outlinewidth\": 0, \"ticks\": \"\"}}, \"type\": \"scatterpolargl\"}], \"scatterternary\": [{\"marker\": {\"colorbar\": {\"outlinewidth\": 0, \"ticks\": \"\"}}, \"type\": \"scatterternary\"}], \"surface\": [{\"colorbar\": {\"outlinewidth\": 0, \"ticks\": \"\"}, \"colorscale\": [[0.0, \"#0d0887\"], [0.1111111111111111, \"#46039f\"], [0.2222222222222222, \"#7201a8\"], [0.3333333333333333, \"#9c179e\"], [0.4444444444444444, \"#bd3786\"], [0.5555555555555556, \"#d8576b\"], [0.6666666666666666, \"#ed7953\"], [0.7777777777777778, \"#fb9f3a\"], [0.8888888888888888, \"#fdca26\"], [1.0, \"#f0f921\"]], \"type\": \"surface\"}], \"table\": [{\"cells\": {\"fill\": {\"color\": \"#EBF0F8\"}, \"line\": {\"color\": \"white\"}}, \"header\": {\"fill\": {\"color\": \"#C8D4E3\"}, \"line\": {\"color\": \"white\"}}, \"type\": \"table\"}]}, \"layout\": {\"annotationdefaults\": {\"arrowcolor\": \"#2a3f5f\", \"arrowhead\": 0, \"arrowwidth\": 1}, \"coloraxis\": {\"colorbar\": {\"outlinewidth\": 0, \"ticks\": \"\"}}, \"colorscale\": {\"diverging\": [[0, \"#8e0152\"], [0.1, \"#c51b7d\"], [0.2, \"#de77ae\"], [0.3, \"#f1b6da\"], [0.4, \"#fde0ef\"], [0.5, \"#f7f7f7\"], [0.6, \"#e6f5d0\"], [0.7, \"#b8e186\"], [0.8, \"#7fbc41\"], [0.9, \"#4d9221\"], [1, \"#276419\"]], \"sequential\": [[0.0, \"#0d0887\"], [0.1111111111111111, \"#46039f\"], [0.2222222222222222, \"#7201a8\"], [0.3333333333333333, \"#9c179e\"], [0.4444444444444444, \"#bd3786\"], [0.5555555555555556, \"#d8576b\"], [0.6666666666666666, \"#ed7953\"], [0.7777777777777778, \"#fb9f3a\"], [0.8888888888888888, \"#fdca26\"], [1.0, \"#f0f921\"]], \"sequentialminus\": [[0.0, \"#0d0887\"], [0.1111111111111111, \"#46039f\"], [0.2222222222222222, \"#7201a8\"], [0.3333333333333333, \"#9c179e\"], [0.4444444444444444, \"#bd3786\"], [0.5555555555555556, \"#d8576b\"], [0.6666666666666666, \"#ed7953\"], [0.7777777777777778, \"#fb9f3a\"], [0.8888888888888888, \"#fdca26\"], [1.0, \"#f0f921\"]]}, \"colorway\": [\"#636efa\", \"#EF553B\", \"#00cc96\", \"#ab63fa\", \"#FFA15A\", \"#19d3f3\", \"#FF6692\", \"#B6E880\", \"#FF97FF\", \"#FECB52\"], \"font\": {\"color\": \"#2a3f5f\"}, \"geo\": {\"bgcolor\": \"white\", \"lakecolor\": \"white\", \"landcolor\": \"#E5ECF6\", \"showlakes\": true, \"showland\": true, \"subunitcolor\": \"white\"}, \"hoverlabel\": {\"align\": \"left\"}, \"hovermode\": \"closest\", \"mapbox\": {\"style\": \"light\"}, \"paper_bgcolor\": \"white\", \"plot_bgcolor\": \"#E5ECF6\", \"polar\": {\"angularaxis\": {\"gridcolor\": \"white\", \"linecolor\": \"white\", \"ticks\": \"\"}, \"bgcolor\": \"#E5ECF6\", \"radialaxis\": {\"gridcolor\": \"white\", \"linecolor\": \"white\", \"ticks\": \"\"}}, \"scene\": {\"xaxis\": {\"backgroundcolor\": \"#E5ECF6\", \"gridcolor\": \"white\", \"gridwidth\": 2, \"linecolor\": \"white\", \"showbackground\": true, \"ticks\": \"\", \"zerolinecolor\": \"white\"}, \"yaxis\": {\"backgroundcolor\": \"#E5ECF6\", \"gridcolor\": \"white\", \"gridwidth\": 2, \"linecolor\": \"white\", \"showbackground\": true, \"ticks\": \"\", \"zerolinecolor\": \"white\"}, \"zaxis\": {\"backgroundcolor\": \"#E5ECF6\", \"gridcolor\": \"white\", \"gridwidth\": 2, \"linecolor\": \"white\", \"showbackground\": true, \"ticks\": \"\", \"zerolinecolor\": \"white\"}}, \"shapedefaults\": {\"line\": {\"color\": \"#2a3f5f\"}}, \"ternary\": {\"aaxis\": {\"gridcolor\": \"white\", \"linecolor\": \"white\", \"ticks\": \"\"}, \"baxis\": {\"gridcolor\": \"white\", \"linecolor\": \"white\", \"ticks\": \"\"}, \"bgcolor\": \"#E5ECF6\", \"caxis\": {\"gridcolor\": \"white\", \"linecolor\": \"white\", \"ticks\": \"\"}}, \"title\": {\"x\": 0.05}, \"xaxis\": {\"automargin\": true, \"gridcolor\": \"white\", \"linecolor\": \"white\", \"ticks\": \"\", \"title\": {\"standoff\": 15}, \"zerolinecolor\": \"white\", \"zerolinewidth\": 2}, \"yaxis\": {\"automargin\": true, \"gridcolor\": \"white\", \"linecolor\": \"white\", \"ticks\": \"\", \"title\": {\"standoff\": 15}, \"zerolinecolor\": \"white\", \"zerolinewidth\": 2}}}, \"title\": {\"text\": \"EUROPE ~ 2020-07-31\"}},\n",
       "                        {\"responsive\": true}\n",
       "                    ).then(function(){\n",
       "                            \n",
       "var gd = document.getElementById('aaf03d5d-7bfe-488c-a289-d2f0ef608f5a');\n",
       "var x = new MutationObserver(function (mutations, observer) {{\n",
       "        var display = window.getComputedStyle(gd).display;\n",
       "        if (!display || display === 'none') {{\n",
       "            console.log([gd, 'removed!']);\n",
       "            Plotly.purge(gd);\n",
       "            observer.disconnect();\n",
       "        }}\n",
       "}});\n",
       "\n",
       "// Listen for the removal of the full notebook cells\n",
       "var notebookContainer = gd.closest('#notebook-container');\n",
       "if (notebookContainer) {{\n",
       "    x.observe(notebookContainer, {childList: true});\n",
       "}}\n",
       "\n",
       "// Listen for the clearing of the current output cell\n",
       "var outputEl = gd.closest('.output');\n",
       "if (outputEl) {{\n",
       "    x.observe(outputEl, {childList: true});\n",
       "}}\n",
       "\n",
       "                        })\n",
       "                };\n",
       "                });\n",
       "            </script>\n",
       "        </div>"
      ]
     },
     "metadata": {},
     "output_type": "display_data"
    }
   ],
   "source": [
    "#HEATMAP\n",
    "\n",
    "heat_trace = go.Choropleth(\n",
    "    z = cov_df_con1['new_cases_per_million'].astype(float), # Data to be color-coded\n",
    "    locations = cov_df_con1['location'],\n",
    "    locationmode = 'country names', # set of locations match entries in `locations`\n",
    "    colorscale = 'dense',\n",
    "    colorbar_title = \"New cases per million \"+ '<br>' +'(' + str(day_chosen) + ')',\n",
    "    )\n",
    "\n",
    "fig = go.Figure(data = heat_trace)\n",
    "\n",
    "fig.update_layout(\n",
    "    title_text = 'EUROPE ~ ' + str(day_chosen),\n",
    "    geo_scope='europe', # focus on continent we want\n",
    ")\n",
    "\n",
    "fig.show()"
   ]
  },
  {
   "cell_type": "markdown",
   "metadata": {},
   "source": [
    "# COUNTRY DATA, time-series, evolution"
   ]
  },
  {
   "cell_type": "code",
   "execution_count": null,
   "metadata": {},
   "outputs": [],
   "source": [
    "#DATA FRAME, some countries\n",
    "covid_df_country = covid_df[[\"continent\", \"location\", \"date\", \"total_cases\", \"new_cases\", \"total_deaths\", \"new_deaths\"]]\n",
    "\n",
    "country1 = \"Spain\"\n",
    "country2 = \"France\"\n",
    "country3 = \"United Kingdom\"\n",
    "country4 = \"Italy\"\n",
    "\n",
    "# days = input(\"How many days from today?\")\n",
    "days = 120\n",
    "days = int(days)\n",
    "\n",
    "#data frames for selected countries\n",
    "covid_df_country1 = covid_df_country[covid_df_country.location == country1]\n",
    "\n",
    "covid_df_country2 = covid_df_country[covid_df_country.location == country2]\n",
    "\n",
    "covid_df_country3 = covid_df_country[covid_df_country.location == country3]\n",
    "\n",
    "covid_df_country4 = covid_df_country[covid_df_country.location == country4]\n"
   ]
  },
  {
   "cell_type": "code",
   "execution_count": null,
   "metadata": {},
   "outputs": [],
   "source": [
    "#PLOT FOR THE PREVIOUS COUNTRIES \n",
    "trace1 = go.Scatter(name = country1,\n",
    "                x = covid_df_country1[\"date\"],\n",
    "                y = covid_df_country1[\"total_cases\"]\n",
    "                )\n",
    "\n",
    "trace2 = go.Scatter(name = country2,\n",
    "                x = covid_df_country2[\"date\"],\n",
    "                y = covid_df_country2[\"total_cases\"]\n",
    "                )\n",
    "\n",
    "trace3 = go.Scatter(name = country3,\n",
    "                x = covid_df_country3[\"date\"],\n",
    "                y = covid_df_country3[\"total_cases\"]\n",
    "                )\n",
    "\n",
    "trace4 = go.Scatter(name = country2,\n",
    "                x = covid_df_country4[\"date\"],\n",
    "                y = covid_df_country4[\"total_cases\"]\n",
    "                )\n",
    "\n",
    "data = [trace1, trace2, trace3, trace4]\n",
    "layout = go.Layout(barmode = \"group\")\n",
    "fig = go.Figure(data = data, layout = layout)\n",
    "fig.show()"
   ]
  },
  {
   "cell_type": "markdown",
   "metadata": {},
   "source": [
    "# testing median of 3 days"
   ]
  },
  {
   "cell_type": "code",
   "execution_count": null,
   "metadata": {},
   "outputs": [],
   "source": [
    "#DATA FRAME, some countries\n",
    "#columns_selection = [\"location\", \"date\", \"total_cases\", \"new_cases\", \"total_deaths\", \"new_deaths\"]\n",
    "columns_selection = [\"location\", \"date\", \"new_cases\"]\n",
    "covid_df_country = covid_df[columns_selection]\n",
    "\n",
    "country = \"Spain\"\n",
    "\n",
    "# days = input(\"How many days from today?\")\n",
    "days = 120\n",
    "days = int(days)\n",
    "\n",
    "#data frames for selected countries\n",
    "covid_df_cntry = covid_df_country[covid_df_country.location == country]\n",
    "\n",
    "#covid_df_cntry['new_cases'] = covid_df_cntry['date'].rolling(3, min_periods = 3).median().shift(freq = pd.Timedelta('3d')).shift(-1)\n",
    "\n",
    "#covid_df_cntry.set_index(\"date\", inplace=True)\n",
    "cols = covid_df_cntry.columns.difference(['date'])\n",
    "\n",
    "covid_df_cntry = covid_df_cntry[pd.DatetimeIndex(covid_df_cntry['date'])].groupby(pd.Grouper(freq='3d'))"
   ]
  },
  {
   "cell_type": "code",
   "execution_count": null,
   "metadata": {},
   "outputs": [],
   "source": []
  }
 ],
 "metadata": {
  "kernelspec": {
   "display_name": "Python 3",
   "language": "python",
   "name": "python3"
  },
  "language_info": {
   "codemirror_mode": {
    "name": "ipython",
    "version": 3
   },
   "file_extension": ".py",
   "mimetype": "text/x-python",
   "name": "python",
   "nbconvert_exporter": "python",
   "pygments_lexer": "ipython3",
   "version": "3.8.2"
  }
 },
 "nbformat": 4,
 "nbformat_minor": 4
}
